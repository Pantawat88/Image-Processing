{
  "nbformat": 4,
  "nbformat_minor": 0,
  "metadata": {
    "colab": {
      "name": "Assignment_Overfitting_40_Epoch.ipynb",
      "provenance": [],
      "collapsed_sections": []
    },
    "kernelspec": {
      "name": "python3",
      "display_name": "Python 3"
    },
    "language_info": {
      "name": "python"
    },
    "accelerator": "GPU"
  },
  "cells": [
    {
      "cell_type": "code",
      "execution_count": 1,
      "metadata": {
        "id": "JeNN2VR8oHy5"
      },
      "outputs": [],
      "source": [
        "import tensorflow as tf\n",
        "Adam = tf.keras.optimizers.Adam\n",
        "to_categorical = tf.keras.utils.to_categorical\n",
        "ImageDataGenerator = tf.keras.preprocessing.image.ImageDataGenerator\n",
        "fashion_mnist = tf.keras.datasets.fashion_mnist\n",
        "load_img = tf.keras.preprocessing.image.load_img\n",
        "img_to_array = tf.keras.preprocessing.image.img_to_array\n",
        "\n",
        "from sklearn.model_selection import train_test_split\n",
        "import matplotlib.pyplot as plt\n",
        "\n",
        "import plotly.graph_objs as go\n",
        "from plotly import subplots\n",
        "import plotly\n",
        "\n",
        "import warnings\n",
        "warnings.filterwarnings('ignore')\n",
        "\n",
        "import numpy as np"
      ]
    },
    {
      "cell_type": "code",
      "source": [
        "IMG_ROWS = 28\n",
        "IMG_COLS = 28\n",
        "NUM_CLASSES = 10\n",
        "VAL_SIZE = 0.2\n",
        "RANDOM_STATE = 99\n",
        "BATCH_SIZE = 256"
      ],
      "metadata": {
        "id": "CWLxv7TjoQAT"
      },
      "execution_count": 2,
      "outputs": []
    },
    {
      "cell_type": "code",
      "source": [
        "(train_data, y), (test_data, y_test) = fashion_mnist.load_data()\n",
        "\n",
        "print(\"Fashion MNIST train -  rows:\",train_data.shape[0],\" columns:\", train_data.shape[1], \" rows:\", train_data.shape[2])\n",
        "print(\"Fashion MNIST test -  rows:\",test_data.shape[0],\" columns:\", test_data.shape[1], \" rows:\", train_data.shape[2])"
      ],
      "metadata": {
        "colab": {
          "base_uri": "https://localhost:8080/"
        },
        "id": "k1a-SLiuoR4X",
        "outputId": "67911d1a-4777-44c5-c9cd-316df54c79a3"
      },
      "execution_count": 3,
      "outputs": [
        {
          "output_type": "stream",
          "name": "stdout",
          "text": [
            "Downloading data from https://storage.googleapis.com/tensorflow/tf-keras-datasets/train-labels-idx1-ubyte.gz\n",
            "32768/29515 [=================================] - 0s 0us/step\n",
            "40960/29515 [=========================================] - 0s 0us/step\n",
            "Downloading data from https://storage.googleapis.com/tensorflow/tf-keras-datasets/train-images-idx3-ubyte.gz\n",
            "26427392/26421880 [==============================] - 0s 0us/step\n",
            "26435584/26421880 [==============================] - 0s 0us/step\n",
            "Downloading data from https://storage.googleapis.com/tensorflow/tf-keras-datasets/t10k-labels-idx1-ubyte.gz\n",
            "16384/5148 [===============================================================================================] - 0s 0us/step\n",
            "Downloading data from https://storage.googleapis.com/tensorflow/tf-keras-datasets/t10k-images-idx3-ubyte.gz\n",
            "4423680/4422102 [==============================] - 0s 0us/step\n",
            "4431872/4422102 [==============================] - 0s 0us/step\n",
            "Fashion MNIST train -  rows: 60000  columns: 28  rows: 28\n",
            "Fashion MNIST test -  rows: 10000  columns: 28  rows: 28\n"
          ]
        }
      ]
    },
    {
      "cell_type": "code",
      "source": [
        "y_test_1 = y_test\n",
        "print(y_test)\n",
        "print(y_test_1)"
      ],
      "metadata": {
        "colab": {
          "base_uri": "https://localhost:8080/"
        },
        "id": "5CYVRbycHR9d",
        "outputId": "71342448-b562-40bc-c231-a58044dcbbbf"
      },
      "execution_count": 4,
      "outputs": [
        {
          "output_type": "stream",
          "name": "stdout",
          "text": [
            "[9 2 1 ... 8 1 5]\n",
            "[9 2 1 ... 8 1 5]\n"
          ]
        }
      ]
    },
    {
      "cell_type": "code",
      "source": [
        "#ขยายมิติ Dataset\n",
        "print(train_data.shape, test_data.shape)\n",
        "train_data = train_data.reshape((train_data.shape[0], 28, 28, 1))\n",
        "test_data = test_data.reshape((test_data.shape[0], 28, 28, 1))\n",
        "\n",
        "print(train_data.shape, test_data.shape)"
      ],
      "metadata": {
        "colab": {
          "base_uri": "https://localhost:8080/"
        },
        "id": "wI0znc0RoUQ3",
        "outputId": "f4e2e165-cc84-4847-d171-23eab611b289"
      },
      "execution_count": 5,
      "outputs": [
        {
          "output_type": "stream",
          "name": "stdout",
          "text": [
            "(60000, 28, 28) (10000, 28, 28)\n",
            "(60000, 28, 28, 1) (10000, 28, 28, 1)\n"
          ]
        }
      ]
    },
    {
      "cell_type": "code",
      "source": [
        "#ทำ Scaling ข้อมูล\n",
        "train_data = train_data / 255.0\n",
        "test_data = test_data / 255.0"
      ],
      "metadata": {
        "id": "Ke8iRMZkofNp"
      },
      "execution_count": 6,
      "outputs": []
    },
    {
      "cell_type": "code",
      "source": [
        "#เข้ารหัส one-Hot Encoding\n",
        "y = to_categorical(y)\n",
        "y_test = to_categorical(y_test)\n",
        "\n",
        "print(y.shape, y_test.shape)\n",
        "y[:10]"
      ],
      "metadata": {
        "colab": {
          "base_uri": "https://localhost:8080/"
        },
        "id": "C8GHNYa0onHW",
        "outputId": "17417298-8bd0-4b78-f057-28b920c5862d"
      },
      "execution_count": 7,
      "outputs": [
        {
          "output_type": "stream",
          "name": "stdout",
          "text": [
            "(60000, 10) (10000, 10)\n"
          ]
        },
        {
          "output_type": "execute_result",
          "data": {
            "text/plain": [
              "array([[0., 0., 0., 0., 0., 0., 0., 0., 0., 1.],\n",
              "       [1., 0., 0., 0., 0., 0., 0., 0., 0., 0.],\n",
              "       [1., 0., 0., 0., 0., 0., 0., 0., 0., 0.],\n",
              "       [0., 0., 0., 1., 0., 0., 0., 0., 0., 0.],\n",
              "       [1., 0., 0., 0., 0., 0., 0., 0., 0., 0.],\n",
              "       [0., 0., 1., 0., 0., 0., 0., 0., 0., 0.],\n",
              "       [0., 0., 0., 0., 0., 0., 0., 1., 0., 0.],\n",
              "       [0., 0., 1., 0., 0., 0., 0., 0., 0., 0.],\n",
              "       [0., 0., 0., 0., 0., 1., 0., 0., 0., 0.],\n",
              "       [0., 0., 0., 0., 0., 1., 0., 0., 0., 0.]], dtype=float32)"
            ]
          },
          "metadata": {},
          "execution_count": 7
        }
      ]
    },
    {
      "cell_type": "code",
      "source": [
        "#แบ่งข้อมูลในการเทรน 80:20\n",
        "x_train, x_val, y_train, y_val = train_test_split(train_data, y, test_size=VAL_SIZE, random_state=RANDOM_STATE)\n",
        "x_train.shape, x_val.shape, y_train.shape, y_val.shape"
      ],
      "metadata": {
        "colab": {
          "base_uri": "https://localhost:8080/"
        },
        "id": "uu5VBddDo2IC",
        "outputId": "651abb17-b571-471b-ff13-c2bb39f4acf9"
      },
      "execution_count": 8,
      "outputs": [
        {
          "output_type": "execute_result",
          "data": {
            "text/plain": [
              "((48000, 28, 28, 1), (12000, 28, 28, 1), (48000, 10), (12000, 10))"
            ]
          },
          "metadata": {},
          "execution_count": 8
        }
      ]
    },
    {
      "cell_type": "code",
      "source": [
        "# model = Sequential()\n",
        "model = tf.keras.Sequential()\n",
        "\n",
        "#1. CNN LAYER\n",
        "model.add(tf.keras.layers.Conv2D(filters = 31, kernel_size = (3,3), padding = 'Same', input_shape=(28, 28, 1)))\n",
        "model.add(tf.keras.layers.Activation(\"relu\"))\n",
        "\n",
        "#2. CNN LAYER\n",
        "model.add(tf.keras.layers.Conv2D(filters = 31, kernel_size = (3,3), padding = 'Same'))\n",
        "model.add(tf.keras.layers.Activation(\"relu\"))\n",
        "\n",
        "model.add(tf.keras.layers.MaxPool2D(pool_size=(2, 2)))\n",
        "\n",
        "#3. CNN LAYER\n",
        "model.add(tf.keras.layers.Conv2D(filters = 62, kernel_size = (3,3), padding = 'Same'))\n",
        "model.add(tf.keras.layers.Activation(\"relu\"))\n",
        "\n",
        "#4. CNN LAYER\n",
        "model.add(tf.keras.layers.Conv2D(filters = 62, kernel_size = (3,3), padding = 'Same'))\n",
        "model.add(tf.keras.layers.Activation(\"relu\"))\n",
        "\n",
        "model.add(tf.keras.layers.MaxPool2D(pool_size=(2, 2)))\n",
        "\n",
        "#FULLY CONNECTED LAYER\n",
        "model.add(tf.keras.layers.Flatten())\n",
        "model.add(tf.keras.layers.Dense(256))\n",
        "model.add(tf.keras.layers.Activation(\"relu\"))\n",
        "\n",
        "#OUTPUT LAYER\n",
        "model.add(tf.keras.layers.Dense(10, activation='softmax'))"
      ],
      "metadata": {
        "id": "ay_g_DkypPm8"
      },
      "execution_count": 9,
      "outputs": []
    },
    {
      "cell_type": "code",
      "source": [
        "optimizer = Adam()\n",
        "model.compile(optimizer = optimizer, loss = \"categorical_crossentropy\", metrics=[\"accuracy\"])\n",
        "\n",
        "model.summary()"
      ],
      "metadata": {
        "colab": {
          "base_uri": "https://localhost:8080/"
        },
        "id": "if5TUQGkpRzN",
        "outputId": "e513905d-513b-4bb1-ff1c-a1960c7df024"
      },
      "execution_count": 10,
      "outputs": [
        {
          "output_type": "stream",
          "name": "stdout",
          "text": [
            "Model: \"sequential\"\n",
            "_________________________________________________________________\n",
            " Layer (type)                Output Shape              Param #   \n",
            "=================================================================\n",
            " conv2d (Conv2D)             (None, 28, 28, 31)        310       \n",
            "                                                                 \n",
            " activation (Activation)     (None, 28, 28, 31)        0         \n",
            "                                                                 \n",
            " conv2d_1 (Conv2D)           (None, 28, 28, 31)        8680      \n",
            "                                                                 \n",
            " activation_1 (Activation)   (None, 28, 28, 31)        0         \n",
            "                                                                 \n",
            " max_pooling2d (MaxPooling2D  (None, 14, 14, 31)       0         \n",
            " )                                                               \n",
            "                                                                 \n",
            " conv2d_2 (Conv2D)           (None, 14, 14, 62)        17360     \n",
            "                                                                 \n",
            " activation_2 (Activation)   (None, 14, 14, 62)        0         \n",
            "                                                                 \n",
            " conv2d_3 (Conv2D)           (None, 14, 14, 62)        34658     \n",
            "                                                                 \n",
            " activation_3 (Activation)   (None, 14, 14, 62)        0         \n",
            "                                                                 \n",
            " max_pooling2d_1 (MaxPooling  (None, 7, 7, 62)         0         \n",
            " 2D)                                                             \n",
            "                                                                 \n",
            " flatten (Flatten)           (None, 3038)              0         \n",
            "                                                                 \n",
            " dense (Dense)               (None, 256)               777984    \n",
            "                                                                 \n",
            " activation_4 (Activation)   (None, 256)               0         \n",
            "                                                                 \n",
            " dense_1 (Dense)             (None, 10)                2570      \n",
            "                                                                 \n",
            "=================================================================\n",
            "Total params: 841,562\n",
            "Trainable params: 841,562\n",
            "Non-trainable params: 0\n",
            "_________________________________________________________________\n"
          ]
        }
      ]
    },
    {
      "cell_type": "code",
      "source": [
        "NO_EPOCHS = 40\n",
        "\n",
        "history = model.fit(x_train, y_train, batch_size=NO_EPOCHS,\n",
        "                              shuffle=True,\n",
        "                              epochs=NO_EPOCHS, validation_data = (x_val, y_val),\n",
        "                              verbose = 1, steps_per_epoch=x_train.shape[0] // BATCH_SIZE)"
      ],
      "metadata": {
        "colab": {
          "base_uri": "https://localhost:8080/"
        },
        "id": "eeJK0_9EpzfT",
        "outputId": "c429c3c5-56ab-4b5a-8176-46bd85ccf981"
      },
      "execution_count": 11,
      "outputs": [
        {
          "output_type": "stream",
          "name": "stdout",
          "text": [
            "Epoch 1/40\n",
            "187/187 [==============================] - 13s 9ms/step - loss: 0.7285 - accuracy: 0.7353 - val_loss: 0.4773 - val_accuracy: 0.8238\n",
            "Epoch 2/40\n",
            "187/187 [==============================] - 1s 7ms/step - loss: 0.4381 - accuracy: 0.8433 - val_loss: 0.3940 - val_accuracy: 0.8587\n",
            "Epoch 3/40\n",
            "187/187 [==============================] - 1s 7ms/step - loss: 0.3788 - accuracy: 0.8610 - val_loss: 0.3479 - val_accuracy: 0.8753\n",
            "Epoch 4/40\n",
            "187/187 [==============================] - 1s 7ms/step - loss: 0.3178 - accuracy: 0.8836 - val_loss: 0.3175 - val_accuracy: 0.8817\n",
            "Epoch 5/40\n",
            "187/187 [==============================] - 1s 8ms/step - loss: 0.3018 - accuracy: 0.8889 - val_loss: 0.3228 - val_accuracy: 0.8919\n",
            "Epoch 6/40\n",
            "187/187 [==============================] - 1s 7ms/step - loss: 0.2996 - accuracy: 0.8893 - val_loss: 0.2780 - val_accuracy: 0.8971\n",
            "Epoch 7/40\n",
            "187/187 [==============================] - 1s 7ms/step - loss: 0.2854 - accuracy: 0.8949 - val_loss: 0.2744 - val_accuracy: 0.8967\n",
            "Epoch 8/40\n",
            "187/187 [==============================] - 1s 7ms/step - loss: 0.2560 - accuracy: 0.9036 - val_loss: 0.2800 - val_accuracy: 0.9007\n",
            "Epoch 9/40\n",
            "187/187 [==============================] - 1s 8ms/step - loss: 0.2361 - accuracy: 0.9135 - val_loss: 0.2535 - val_accuracy: 0.9073\n",
            "Epoch 10/40\n",
            "187/187 [==============================] - 2s 11ms/step - loss: 0.2401 - accuracy: 0.9116 - val_loss: 0.2501 - val_accuracy: 0.9086\n",
            "Epoch 11/40\n",
            "187/187 [==============================] - 1s 8ms/step - loss: 0.2482 - accuracy: 0.9080 - val_loss: 0.2511 - val_accuracy: 0.9101\n",
            "Epoch 12/40\n",
            "187/187 [==============================] - 1s 7ms/step - loss: 0.2299 - accuracy: 0.9174 - val_loss: 0.2480 - val_accuracy: 0.9106\n",
            "Epoch 13/40\n",
            "187/187 [==============================] - 1s 7ms/step - loss: 0.2316 - accuracy: 0.9146 - val_loss: 0.2773 - val_accuracy: 0.8986\n",
            "Epoch 14/40\n",
            "187/187 [==============================] - 1s 7ms/step - loss: 0.1947 - accuracy: 0.9273 - val_loss: 0.2374 - val_accuracy: 0.9119\n",
            "Epoch 15/40\n",
            "187/187 [==============================] - 1s 8ms/step - loss: 0.2023 - accuracy: 0.9257 - val_loss: 0.2414 - val_accuracy: 0.9091\n",
            "Epoch 16/40\n",
            "187/187 [==============================] - 1s 7ms/step - loss: 0.1950 - accuracy: 0.9279 - val_loss: 0.2319 - val_accuracy: 0.9151\n",
            "Epoch 17/40\n",
            "187/187 [==============================] - 1s 8ms/step - loss: 0.2032 - accuracy: 0.9255 - val_loss: 0.2276 - val_accuracy: 0.9158\n",
            "Epoch 18/40\n",
            "187/187 [==============================] - 1s 7ms/step - loss: 0.1945 - accuracy: 0.9314 - val_loss: 0.2327 - val_accuracy: 0.9126\n",
            "Epoch 19/40\n",
            "187/187 [==============================] - 1s 7ms/step - loss: 0.1858 - accuracy: 0.9289 - val_loss: 0.2238 - val_accuracy: 0.9170\n",
            "Epoch 20/40\n",
            "187/187 [==============================] - 1s 7ms/step - loss: 0.1819 - accuracy: 0.9352 - val_loss: 0.2304 - val_accuracy: 0.9165\n",
            "Epoch 21/40\n",
            "187/187 [==============================] - 1s 7ms/step - loss: 0.1539 - accuracy: 0.9445 - val_loss: 0.2235 - val_accuracy: 0.9187\n",
            "Epoch 22/40\n",
            "187/187 [==============================] - 1s 7ms/step - loss: 0.1594 - accuracy: 0.9408 - val_loss: 0.2365 - val_accuracy: 0.9191\n",
            "Epoch 23/40\n",
            "187/187 [==============================] - 1s 7ms/step - loss: 0.1675 - accuracy: 0.9384 - val_loss: 0.2346 - val_accuracy: 0.9180\n",
            "Epoch 24/40\n",
            "187/187 [==============================] - 1s 7ms/step - loss: 0.1635 - accuracy: 0.9369 - val_loss: 0.2208 - val_accuracy: 0.9198\n",
            "Epoch 25/40\n",
            "187/187 [==============================] - 1s 7ms/step - loss: 0.1593 - accuracy: 0.9396 - val_loss: 0.2269 - val_accuracy: 0.9174\n",
            "Epoch 26/40\n",
            "187/187 [==============================] - 1s 7ms/step - loss: 0.1524 - accuracy: 0.9460 - val_loss: 0.2179 - val_accuracy: 0.9237\n",
            "Epoch 27/40\n",
            "187/187 [==============================] - 1s 7ms/step - loss: 0.1228 - accuracy: 0.9572 - val_loss: 0.2272 - val_accuracy: 0.9236\n",
            "Epoch 28/40\n",
            "187/187 [==============================] - 1s 8ms/step - loss: 0.1269 - accuracy: 0.9523 - val_loss: 0.2388 - val_accuracy: 0.9153\n",
            "Epoch 29/40\n",
            "187/187 [==============================] - 1s 7ms/step - loss: 0.1344 - accuracy: 0.9515 - val_loss: 0.2191 - val_accuracy: 0.9231\n",
            "Epoch 30/40\n",
            "187/187 [==============================] - 1s 7ms/step - loss: 0.1350 - accuracy: 0.9507 - val_loss: 0.2151 - val_accuracy: 0.9238\n",
            "Epoch 31/40\n",
            "187/187 [==============================] - 1s 7ms/step - loss: 0.1236 - accuracy: 0.9540 - val_loss: 0.2385 - val_accuracy: 0.9194\n",
            "Epoch 32/40\n",
            "187/187 [==============================] - 2s 11ms/step - loss: 0.1413 - accuracy: 0.9485 - val_loss: 0.2315 - val_accuracy: 0.9228\n",
            "Epoch 33/40\n",
            "187/187 [==============================] - 2s 8ms/step - loss: 0.0872 - accuracy: 0.9687 - val_loss: 0.2406 - val_accuracy: 0.9232\n",
            "Epoch 34/40\n",
            "187/187 [==============================] - 1s 7ms/step - loss: 0.0953 - accuracy: 0.9655 - val_loss: 0.2615 - val_accuracy: 0.9190\n",
            "Epoch 35/40\n",
            "187/187 [==============================] - 2s 11ms/step - loss: 0.1080 - accuracy: 0.9575 - val_loss: 0.2592 - val_accuracy: 0.9218\n",
            "Epoch 36/40\n",
            "187/187 [==============================] - 1s 7ms/step - loss: 0.1119 - accuracy: 0.9566 - val_loss: 0.2362 - val_accuracy: 0.9235\n",
            "Epoch 37/40\n",
            "187/187 [==============================] - 1s 7ms/step - loss: 0.1106 - accuracy: 0.9598 - val_loss: 0.2674 - val_accuracy: 0.9189\n",
            "Epoch 38/40\n",
            "187/187 [==============================] - 2s 11ms/step - loss: 0.1209 - accuracy: 0.9545 - val_loss: 0.2348 - val_accuracy: 0.9262\n",
            "Epoch 39/40\n",
            "187/187 [==============================] - 1s 7ms/step - loss: 0.0856 - accuracy: 0.9679 - val_loss: 0.2477 - val_accuracy: 0.9247\n",
            "Epoch 40/40\n",
            "187/187 [==============================] - 1s 7ms/step - loss: 0.0657 - accuracy: 0.9771 - val_loss: 0.2724 - val_accuracy: 0.9262\n"
          ]
        }
      ]
    },
    {
      "cell_type": "code",
      "source": [
        "def create_trace(x,y,ylabel,color):\n",
        "        trace = go.Scatter(\n",
        "            x = x,y = y,\n",
        "            name=ylabel,\n",
        "            marker=dict(color=color),\n",
        "            mode = \"markers+lines\",\n",
        "            text=x\n",
        "        )\n",
        "        return trace\n",
        "    \n",
        "def plot_accuracy_and_loss(train_model):\n",
        "    hist = train_model.history\n",
        "    acc = hist['accuracy']\n",
        "    val_acc = hist['val_accuracy']\n",
        "    loss = hist['loss']\n",
        "    val_loss = hist['val_loss']\n",
        "    epochs = list(range(1,len(acc)+1))\n",
        "    \n",
        "    trace_ta = create_trace(epochs,acc,\"Training accuracy\", \"Green\")\n",
        "    trace_va = create_trace(epochs,val_acc,\"Validation accuracy\", \"Red\")\n",
        "    trace_tl = create_trace(epochs,loss,\"Training loss\", \"Blue\")\n",
        "    trace_vl = create_trace(epochs,val_loss,\"Validation loss\", \"Magenta\")\n",
        "   \n",
        "    fig = subplots.make_subplots(rows=1,cols=2, subplot_titles=('Training and validation accuracy',\n",
        "                                                             'Training and validation loss'))\n",
        "    fig.append_trace(trace_ta,1,1)\n",
        "    fig.append_trace(trace_va,1,1)\n",
        "    fig.append_trace(trace_tl,1,2)\n",
        "    fig.append_trace(trace_vl,1,2)\n",
        "    fig['layout']['xaxis'].update(title = 'Epoch')\n",
        "    fig['layout']['xaxis2'].update(title = 'Epoch')\n",
        "    fig['layout']['yaxis'].update(title = 'Accuracy', range=[0,1])\n",
        "    fig['layout']['yaxis2'].update(title = 'Loss', range=[0,1])\n",
        "\n",
        "    plotly.offline.iplot(fig, filename='accuracy-loss')"
      ],
      "metadata": {
        "id": "67Nsp0tjqa-9"
      },
      "execution_count": 12,
      "outputs": []
    },
    {
      "cell_type": "code",
      "source": [
        "plot_accuracy_and_loss(history)"
      ],
      "metadata": {
        "colab": {
          "base_uri": "https://localhost:8080/",
          "height": 542
        },
        "id": "Jjn7diGxqgbq",
        "outputId": "932f9107-2732-4986-85de-d7ed8fb8119d"
      },
      "execution_count": 13,
      "outputs": [
        {
          "output_type": "display_data",
          "data": {
            "text/html": [
              "<html>\n",
              "<head><meta charset=\"utf-8\" /></head>\n",
              "<body>\n",
              "    <div>            <script src=\"https://cdnjs.cloudflare.com/ajax/libs/mathjax/2.7.5/MathJax.js?config=TeX-AMS-MML_SVG\"></script><script type=\"text/javascript\">if (window.MathJax) {MathJax.Hub.Config({SVG: {font: \"STIX-Web\"}});}</script>                <script type=\"text/javascript\">window.PlotlyConfig = {MathJaxConfig: 'local'};</script>\n",
              "        <script src=\"https://cdn.plot.ly/plotly-2.8.3.min.js\"></script>                <div id=\"a8c6d29d-13f4-484a-b22a-5b9b597b1b71\" class=\"plotly-graph-div\" style=\"height:525px; width:100%;\"></div>            <script type=\"text/javascript\">                                    window.PLOTLYENV=window.PLOTLYENV || {};                                    if (document.getElementById(\"a8c6d29d-13f4-484a-b22a-5b9b597b1b71\")) {                    Plotly.newPlot(                        \"a8c6d29d-13f4-484a-b22a-5b9b597b1b71\",                        [{\"marker\":{\"color\":\"Green\"},\"mode\":\"markers+lines\",\"name\":\"Training accuracy\",\"text\":[\"1\",\"2\",\"3\",\"4\",\"5\",\"6\",\"7\",\"8\",\"9\",\"10\",\"11\",\"12\",\"13\",\"14\",\"15\",\"16\",\"17\",\"18\",\"19\",\"20\",\"21\",\"22\",\"23\",\"24\",\"25\",\"26\",\"27\",\"28\",\"29\",\"30\",\"31\",\"32\",\"33\",\"34\",\"35\",\"36\",\"37\",\"38\",\"39\",\"40\"],\"x\":[1,2,3,4,5,6,7,8,9,10,11,12,13,14,15,16,17,18,19,20,21,22,23,24,25,26,27,28,29,30,31,32,33,34,35,36,37,38,39,40],\"xaxis\":\"x\",\"y\":[0.7352941036224365,0.8433154821395874,0.8609625697135925,0.8835561275482178,0.8889037370681763,0.8893048167228699,0.8949198126792908,0.9036096334457397,0.9135026931762695,0.9116309881210327,0.9080213904380798,0.9173796772956848,0.9145721793174744,0.9272727370262146,0.925668478012085,0.9279412031173706,0.9255347847938538,0.9314171075820923,0.9288769960403442,0.9351603984832764,0.9445187449455261,0.9407753944396973,0.9383689761161804,0.936898410320282,0.9395722150802612,0.9459893107414246,0.9572192430496216,0.9522727131843567,0.9514706134796143,0.950668454170227,0.9540106654167175,0.9485294222831726,0.968716561794281,0.9655080437660217,0.957486629486084,0.9565507769584656,0.9597593545913696,0.9545454382896423,0.9679144620895386,0.9771390557289124],\"yaxis\":\"y\",\"type\":\"scatter\"},{\"marker\":{\"color\":\"Red\"},\"mode\":\"markers+lines\",\"name\":\"Validation accuracy\",\"text\":[\"1\",\"2\",\"3\",\"4\",\"5\",\"6\",\"7\",\"8\",\"9\",\"10\",\"11\",\"12\",\"13\",\"14\",\"15\",\"16\",\"17\",\"18\",\"19\",\"20\",\"21\",\"22\",\"23\",\"24\",\"25\",\"26\",\"27\",\"28\",\"29\",\"30\",\"31\",\"32\",\"33\",\"34\",\"35\",\"36\",\"37\",\"38\",\"39\",\"40\"],\"x\":[1,2,3,4,5,6,7,8,9,10,11,12,13,14,15,16,17,18,19,20,21,22,23,24,25,26,27,28,29,30,31,32,33,34,35,36,37,38,39,40],\"xaxis\":\"x\",\"y\":[0.8237500190734863,0.8586666584014893,0.875333309173584,0.8816666603088379,0.8919166922569275,0.8970833420753479,0.8966666460037231,0.9007499814033508,0.9073333144187927,0.9085833430290222,0.9100833535194397,0.9105833172798157,0.8985833525657654,0.9119166731834412,0.9090833067893982,0.9150833487510681,0.9157500267028809,0.9125833511352539,0.9169999957084656,0.9164999723434448,0.918749988079071,0.9190833568572998,0.9179999828338623,0.9198333621025085,0.9174166917800903,0.9237499833106995,0.9235833287239075,0.9152500033378601,0.9230833053588867,0.9238333106040955,0.9194166660308838,0.9228333234786987,0.9231666922569275,0.9190000295639038,0.921750009059906,0.9235000014305115,0.918916642665863,0.9261666536331177,0.9246666431427002,0.9261666536331177],\"yaxis\":\"y\",\"type\":\"scatter\"},{\"marker\":{\"color\":\"Blue\"},\"mode\":\"markers+lines\",\"name\":\"Training loss\",\"text\":[\"1\",\"2\",\"3\",\"4\",\"5\",\"6\",\"7\",\"8\",\"9\",\"10\",\"11\",\"12\",\"13\",\"14\",\"15\",\"16\",\"17\",\"18\",\"19\",\"20\",\"21\",\"22\",\"23\",\"24\",\"25\",\"26\",\"27\",\"28\",\"29\",\"30\",\"31\",\"32\",\"33\",\"34\",\"35\",\"36\",\"37\",\"38\",\"39\",\"40\"],\"x\":[1,2,3,4,5,6,7,8,9,10,11,12,13,14,15,16,17,18,19,20,21,22,23,24,25,26,27,28,29,30,31,32,33,34,35,36,37,38,39,40],\"xaxis\":\"x2\",\"y\":[0.7284935116767883,0.4381238520145416,0.3787725269794464,0.3178389370441437,0.30175885558128357,0.2995765507221222,0.28544917702674866,0.2559511363506317,0.23610760271549225,0.24009205400943756,0.24817101657390594,0.22994261980056763,0.2316463142633438,0.19467391073703766,0.20228725671768188,0.195007786154747,0.20316238701343536,0.1945044994354248,0.18579168617725372,0.18188248574733734,0.15386374294757843,0.15943536162376404,0.16745659708976746,0.16350220143795013,0.15928605198860168,0.15243031084537506,0.12284798920154572,0.12687839567661285,0.13444070518016815,0.13504856824874878,0.12358392775058746,0.14127996563911438,0.08716603368520737,0.09533637762069702,0.10803528130054474,0.11190878599882126,0.1106434166431427,0.12092781811952591,0.08562737703323364,0.06566032022237778],\"yaxis\":\"y2\",\"type\":\"scatter\"},{\"marker\":{\"color\":\"Magenta\"},\"mode\":\"markers+lines\",\"name\":\"Validation loss\",\"text\":[\"1\",\"2\",\"3\",\"4\",\"5\",\"6\",\"7\",\"8\",\"9\",\"10\",\"11\",\"12\",\"13\",\"14\",\"15\",\"16\",\"17\",\"18\",\"19\",\"20\",\"21\",\"22\",\"23\",\"24\",\"25\",\"26\",\"27\",\"28\",\"29\",\"30\",\"31\",\"32\",\"33\",\"34\",\"35\",\"36\",\"37\",\"38\",\"39\",\"40\"],\"x\":[1,2,3,4,5,6,7,8,9,10,11,12,13,14,15,16,17,18,19,20,21,22,23,24,25,26,27,28,29,30,31,32,33,34,35,36,37,38,39,40],\"xaxis\":\"x2\",\"y\":[0.47728994488716125,0.39395931363105774,0.34787213802337646,0.31750619411468506,0.3227626085281372,0.27796462178230286,0.27437177300453186,0.28004536032676697,0.25350862741470337,0.2501417100429535,0.25107619166374207,0.24804449081420898,0.27731654047966003,0.23742391169071198,0.24136702716350555,0.23187479376792908,0.22756840288639069,0.23266054689884186,0.22384203970432281,0.23035326600074768,0.22351552546024323,0.23648418486118317,0.2345850169658661,0.22080376744270325,0.22693349421024323,0.21787196397781372,0.22721710801124573,0.23884783685207367,0.2190915048122406,0.2151428610086441,0.23850496113300323,0.23150178790092468,0.24064575135707855,0.261491984128952,0.25915899872779846,0.23616735637187958,0.26739269495010376,0.23481523990631104,0.2476944625377655,0.2723574638366699],\"yaxis\":\"y2\",\"type\":\"scatter\"}],                        {\"annotations\":[{\"font\":{\"size\":16},\"showarrow\":false,\"text\":\"Training and validation accuracy\",\"x\":0.225,\"xanchor\":\"center\",\"xref\":\"paper\",\"y\":1.0,\"yanchor\":\"bottom\",\"yref\":\"paper\"},{\"font\":{\"size\":16},\"showarrow\":false,\"text\":\"Training and validation loss\",\"x\":0.775,\"xanchor\":\"center\",\"xref\":\"paper\",\"y\":1.0,\"yanchor\":\"bottom\",\"yref\":\"paper\"}],\"template\":{\"data\":{\"barpolar\":[{\"marker\":{\"line\":{\"color\":\"#E5ECF6\",\"width\":0.5},\"pattern\":{\"fillmode\":\"overlay\",\"size\":10,\"solidity\":0.2}},\"type\":\"barpolar\"}],\"bar\":[{\"error_x\":{\"color\":\"#2a3f5f\"},\"error_y\":{\"color\":\"#2a3f5f\"},\"marker\":{\"line\":{\"color\":\"#E5ECF6\",\"width\":0.5},\"pattern\":{\"fillmode\":\"overlay\",\"size\":10,\"solidity\":0.2}},\"type\":\"bar\"}],\"carpet\":[{\"aaxis\":{\"endlinecolor\":\"#2a3f5f\",\"gridcolor\":\"white\",\"linecolor\":\"white\",\"minorgridcolor\":\"white\",\"startlinecolor\":\"#2a3f5f\"},\"baxis\":{\"endlinecolor\":\"#2a3f5f\",\"gridcolor\":\"white\",\"linecolor\":\"white\",\"minorgridcolor\":\"white\",\"startlinecolor\":\"#2a3f5f\"},\"type\":\"carpet\"}],\"choropleth\":[{\"colorbar\":{\"outlinewidth\":0,\"ticks\":\"\"},\"type\":\"choropleth\"}],\"contourcarpet\":[{\"colorbar\":{\"outlinewidth\":0,\"ticks\":\"\"},\"type\":\"contourcarpet\"}],\"contour\":[{\"colorbar\":{\"outlinewidth\":0,\"ticks\":\"\"},\"colorscale\":[[0.0,\"#0d0887\"],[0.1111111111111111,\"#46039f\"],[0.2222222222222222,\"#7201a8\"],[0.3333333333333333,\"#9c179e\"],[0.4444444444444444,\"#bd3786\"],[0.5555555555555556,\"#d8576b\"],[0.6666666666666666,\"#ed7953\"],[0.7777777777777778,\"#fb9f3a\"],[0.8888888888888888,\"#fdca26\"],[1.0,\"#f0f921\"]],\"type\":\"contour\"}],\"heatmapgl\":[{\"colorbar\":{\"outlinewidth\":0,\"ticks\":\"\"},\"colorscale\":[[0.0,\"#0d0887\"],[0.1111111111111111,\"#46039f\"],[0.2222222222222222,\"#7201a8\"],[0.3333333333333333,\"#9c179e\"],[0.4444444444444444,\"#bd3786\"],[0.5555555555555556,\"#d8576b\"],[0.6666666666666666,\"#ed7953\"],[0.7777777777777778,\"#fb9f3a\"],[0.8888888888888888,\"#fdca26\"],[1.0,\"#f0f921\"]],\"type\":\"heatmapgl\"}],\"heatmap\":[{\"colorbar\":{\"outlinewidth\":0,\"ticks\":\"\"},\"colorscale\":[[0.0,\"#0d0887\"],[0.1111111111111111,\"#46039f\"],[0.2222222222222222,\"#7201a8\"],[0.3333333333333333,\"#9c179e\"],[0.4444444444444444,\"#bd3786\"],[0.5555555555555556,\"#d8576b\"],[0.6666666666666666,\"#ed7953\"],[0.7777777777777778,\"#fb9f3a\"],[0.8888888888888888,\"#fdca26\"],[1.0,\"#f0f921\"]],\"type\":\"heatmap\"}],\"histogram2dcontour\":[{\"colorbar\":{\"outlinewidth\":0,\"ticks\":\"\"},\"colorscale\":[[0.0,\"#0d0887\"],[0.1111111111111111,\"#46039f\"],[0.2222222222222222,\"#7201a8\"],[0.3333333333333333,\"#9c179e\"],[0.4444444444444444,\"#bd3786\"],[0.5555555555555556,\"#d8576b\"],[0.6666666666666666,\"#ed7953\"],[0.7777777777777778,\"#fb9f3a\"],[0.8888888888888888,\"#fdca26\"],[1.0,\"#f0f921\"]],\"type\":\"histogram2dcontour\"}],\"histogram2d\":[{\"colorbar\":{\"outlinewidth\":0,\"ticks\":\"\"},\"colorscale\":[[0.0,\"#0d0887\"],[0.1111111111111111,\"#46039f\"],[0.2222222222222222,\"#7201a8\"],[0.3333333333333333,\"#9c179e\"],[0.4444444444444444,\"#bd3786\"],[0.5555555555555556,\"#d8576b\"],[0.6666666666666666,\"#ed7953\"],[0.7777777777777778,\"#fb9f3a\"],[0.8888888888888888,\"#fdca26\"],[1.0,\"#f0f921\"]],\"type\":\"histogram2d\"}],\"histogram\":[{\"marker\":{\"pattern\":{\"fillmode\":\"overlay\",\"size\":10,\"solidity\":0.2}},\"type\":\"histogram\"}],\"mesh3d\":[{\"colorbar\":{\"outlinewidth\":0,\"ticks\":\"\"},\"type\":\"mesh3d\"}],\"parcoords\":[{\"line\":{\"colorbar\":{\"outlinewidth\":0,\"ticks\":\"\"}},\"type\":\"parcoords\"}],\"pie\":[{\"automargin\":true,\"type\":\"pie\"}],\"scatter3d\":[{\"line\":{\"colorbar\":{\"outlinewidth\":0,\"ticks\":\"\"}},\"marker\":{\"colorbar\":{\"outlinewidth\":0,\"ticks\":\"\"}},\"type\":\"scatter3d\"}],\"scattercarpet\":[{\"marker\":{\"colorbar\":{\"outlinewidth\":0,\"ticks\":\"\"}},\"type\":\"scattercarpet\"}],\"scattergeo\":[{\"marker\":{\"colorbar\":{\"outlinewidth\":0,\"ticks\":\"\"}},\"type\":\"scattergeo\"}],\"scattergl\":[{\"marker\":{\"colorbar\":{\"outlinewidth\":0,\"ticks\":\"\"}},\"type\":\"scattergl\"}],\"scattermapbox\":[{\"marker\":{\"colorbar\":{\"outlinewidth\":0,\"ticks\":\"\"}},\"type\":\"scattermapbox\"}],\"scatterpolargl\":[{\"marker\":{\"colorbar\":{\"outlinewidth\":0,\"ticks\":\"\"}},\"type\":\"scatterpolargl\"}],\"scatterpolar\":[{\"marker\":{\"colorbar\":{\"outlinewidth\":0,\"ticks\":\"\"}},\"type\":\"scatterpolar\"}],\"scatter\":[{\"marker\":{\"colorbar\":{\"outlinewidth\":0,\"ticks\":\"\"}},\"type\":\"scatter\"}],\"scatterternary\":[{\"marker\":{\"colorbar\":{\"outlinewidth\":0,\"ticks\":\"\"}},\"type\":\"scatterternary\"}],\"surface\":[{\"colorbar\":{\"outlinewidth\":0,\"ticks\":\"\"},\"colorscale\":[[0.0,\"#0d0887\"],[0.1111111111111111,\"#46039f\"],[0.2222222222222222,\"#7201a8\"],[0.3333333333333333,\"#9c179e\"],[0.4444444444444444,\"#bd3786\"],[0.5555555555555556,\"#d8576b\"],[0.6666666666666666,\"#ed7953\"],[0.7777777777777778,\"#fb9f3a\"],[0.8888888888888888,\"#fdca26\"],[1.0,\"#f0f921\"]],\"type\":\"surface\"}],\"table\":[{\"cells\":{\"fill\":{\"color\":\"#EBF0F8\"},\"line\":{\"color\":\"white\"}},\"header\":{\"fill\":{\"color\":\"#C8D4E3\"},\"line\":{\"color\":\"white\"}},\"type\":\"table\"}]},\"layout\":{\"annotationdefaults\":{\"arrowcolor\":\"#2a3f5f\",\"arrowhead\":0,\"arrowwidth\":1},\"autotypenumbers\":\"strict\",\"coloraxis\":{\"colorbar\":{\"outlinewidth\":0,\"ticks\":\"\"}},\"colorscale\":{\"diverging\":[[0,\"#8e0152\"],[0.1,\"#c51b7d\"],[0.2,\"#de77ae\"],[0.3,\"#f1b6da\"],[0.4,\"#fde0ef\"],[0.5,\"#f7f7f7\"],[0.6,\"#e6f5d0\"],[0.7,\"#b8e186\"],[0.8,\"#7fbc41\"],[0.9,\"#4d9221\"],[1,\"#276419\"]],\"sequential\":[[0.0,\"#0d0887\"],[0.1111111111111111,\"#46039f\"],[0.2222222222222222,\"#7201a8\"],[0.3333333333333333,\"#9c179e\"],[0.4444444444444444,\"#bd3786\"],[0.5555555555555556,\"#d8576b\"],[0.6666666666666666,\"#ed7953\"],[0.7777777777777778,\"#fb9f3a\"],[0.8888888888888888,\"#fdca26\"],[1.0,\"#f0f921\"]],\"sequentialminus\":[[0.0,\"#0d0887\"],[0.1111111111111111,\"#46039f\"],[0.2222222222222222,\"#7201a8\"],[0.3333333333333333,\"#9c179e\"],[0.4444444444444444,\"#bd3786\"],[0.5555555555555556,\"#d8576b\"],[0.6666666666666666,\"#ed7953\"],[0.7777777777777778,\"#fb9f3a\"],[0.8888888888888888,\"#fdca26\"],[1.0,\"#f0f921\"]]},\"colorway\":[\"#636efa\",\"#EF553B\",\"#00cc96\",\"#ab63fa\",\"#FFA15A\",\"#19d3f3\",\"#FF6692\",\"#B6E880\",\"#FF97FF\",\"#FECB52\"],\"font\":{\"color\":\"#2a3f5f\"},\"geo\":{\"bgcolor\":\"white\",\"lakecolor\":\"white\",\"landcolor\":\"#E5ECF6\",\"showlakes\":true,\"showland\":true,\"subunitcolor\":\"white\"},\"hoverlabel\":{\"align\":\"left\"},\"hovermode\":\"closest\",\"mapbox\":{\"style\":\"light\"},\"paper_bgcolor\":\"white\",\"plot_bgcolor\":\"#E5ECF6\",\"polar\":{\"angularaxis\":{\"gridcolor\":\"white\",\"linecolor\":\"white\",\"ticks\":\"\"},\"bgcolor\":\"#E5ECF6\",\"radialaxis\":{\"gridcolor\":\"white\",\"linecolor\":\"white\",\"ticks\":\"\"}},\"scene\":{\"xaxis\":{\"backgroundcolor\":\"#E5ECF6\",\"gridcolor\":\"white\",\"gridwidth\":2,\"linecolor\":\"white\",\"showbackground\":true,\"ticks\":\"\",\"zerolinecolor\":\"white\"},\"yaxis\":{\"backgroundcolor\":\"#E5ECF6\",\"gridcolor\":\"white\",\"gridwidth\":2,\"linecolor\":\"white\",\"showbackground\":true,\"ticks\":\"\",\"zerolinecolor\":\"white\"},\"zaxis\":{\"backgroundcolor\":\"#E5ECF6\",\"gridcolor\":\"white\",\"gridwidth\":2,\"linecolor\":\"white\",\"showbackground\":true,\"ticks\":\"\",\"zerolinecolor\":\"white\"}},\"shapedefaults\":{\"line\":{\"color\":\"#2a3f5f\"}},\"ternary\":{\"aaxis\":{\"gridcolor\":\"white\",\"linecolor\":\"white\",\"ticks\":\"\"},\"baxis\":{\"gridcolor\":\"white\",\"linecolor\":\"white\",\"ticks\":\"\"},\"bgcolor\":\"#E5ECF6\",\"caxis\":{\"gridcolor\":\"white\",\"linecolor\":\"white\",\"ticks\":\"\"}},\"title\":{\"x\":0.05},\"xaxis\":{\"automargin\":true,\"gridcolor\":\"white\",\"linecolor\":\"white\",\"ticks\":\"\",\"title\":{\"standoff\":15},\"zerolinecolor\":\"white\",\"zerolinewidth\":2},\"yaxis\":{\"automargin\":true,\"gridcolor\":\"white\",\"linecolor\":\"white\",\"ticks\":\"\",\"title\":{\"standoff\":15},\"zerolinecolor\":\"white\",\"zerolinewidth\":2}}},\"xaxis\":{\"anchor\":\"y\",\"domain\":[0.0,0.45],\"title\":{\"text\":\"Epoch\"}},\"yaxis\":{\"anchor\":\"x\",\"domain\":[0.0,1.0],\"range\":[0,1],\"title\":{\"text\":\"Accuracy\"}},\"xaxis2\":{\"anchor\":\"y2\",\"domain\":[0.55,1.0],\"title\":{\"text\":\"Epoch\"}},\"yaxis2\":{\"anchor\":\"x2\",\"domain\":[0.0,1.0],\"range\":[0,1],\"title\":{\"text\":\"Loss\"}}},                        {\"responsive\": true}                    ).then(function(){\n",
              "                            \n",
              "var gd = document.getElementById('a8c6d29d-13f4-484a-b22a-5b9b597b1b71');\n",
              "var x = new MutationObserver(function (mutations, observer) {{\n",
              "        var display = window.getComputedStyle(gd).display;\n",
              "        if (!display || display === 'none') {{\n",
              "            console.log([gd, 'removed!']);\n",
              "            Plotly.purge(gd);\n",
              "            observer.disconnect();\n",
              "        }}\n",
              "}});\n",
              "\n",
              "// Listen for the removal of the full notebook cells\n",
              "var notebookContainer = gd.closest('#notebook-container');\n",
              "if (notebookContainer) {{\n",
              "    x.observe(notebookContainer, {childList: true});\n",
              "}}\n",
              "\n",
              "// Listen for the clearing of the current output cell\n",
              "var outputEl = gd.closest('.output');\n",
              "if (outputEl) {{\n",
              "    x.observe(outputEl, {childList: true});\n",
              "}}\n",
              "\n",
              "                        })                };                            </script>        </div>\n",
              "</body>\n",
              "</html>"
            ]
          },
          "metadata": {}
        }
      ]
    },
    {
      "cell_type": "code",
      "source": [
        "score = model.evaluate(test_data, y_test,verbose=0)\n",
        "print(\"Test Loss:\",score[0])\n",
        "print(\"Test Accuracy:\",score[1])"
      ],
      "metadata": {
        "colab": {
          "base_uri": "https://localhost:8080/"
        },
        "id": "T4uZkqGfuLiy",
        "outputId": "66df53a5-5626-4403-ec45-2aeb34a78811"
      },
      "execution_count": 14,
      "outputs": [
        {
          "output_type": "stream",
          "name": "stdout",
          "text": [
            "Test Loss: 0.27969539165496826\n",
            "Test Accuracy: 0.9241999983787537\n"
          ]
        }
      ]
    },
    {
      "cell_type": "code",
      "source": [
        "class_names = ['T-shirt/top', 'Trouser', 'Pullover', 'Dress', 'Coat', 'Sandal', 'Shirt', 'Sneaker', 'Bag', 'Ankle boot']"
      ],
      "metadata": {
        "id": "MgU0jvpGzBVm"
      },
      "execution_count": 15,
      "outputs": []
    },
    {
      "cell_type": "code",
      "source": [
        "x_val.shape"
      ],
      "metadata": {
        "colab": {
          "base_uri": "https://localhost:8080/"
        },
        "id": "cpDuK66a5B7C",
        "outputId": "004439d1-9afc-44c3-9a9b-393c68e49faf"
      },
      "execution_count": 16,
      "outputs": [
        {
          "output_type": "execute_result",
          "data": {
            "text/plain": [
              "(12000, 28, 28, 1)"
            ]
          },
          "metadata": {},
          "execution_count": 16
        }
      ]
    },
    {
      "cell_type": "code",
      "source": [
        "test_data.shape"
      ],
      "metadata": {
        "colab": {
          "base_uri": "https://localhost:8080/"
        },
        "id": "mlVRc8F-E-Ds",
        "outputId": "2f629fe5-1d70-4e20-dde4-ebe238c7bc88"
      },
      "execution_count": 17,
      "outputs": [
        {
          "output_type": "execute_result",
          "data": {
            "text/plain": [
              "(10000, 28, 28, 1)"
            ]
          },
          "metadata": {},
          "execution_count": 17
        }
      ]
    },
    {
      "cell_type": "code",
      "source": [
        "#ลดมิติภาพ มาใส่ในตัวแปร test_data_1\n",
        "test_data_1 = []\n",
        "test_data_1 = test_data.reshape(test_data.shape[0],test_data.shape[1],test_data.shape[2])"
      ],
      "metadata": {
        "id": "fIDiemudFQvp"
      },
      "execution_count": 18,
      "outputs": []
    },
    {
      "cell_type": "code",
      "source": [
        "#shape ของ test_data_1 \n",
        "test_data_1.shape"
      ],
      "metadata": {
        "colab": {
          "base_uri": "https://localhost:8080/"
        },
        "id": "yZ3kpDaEFT6I",
        "outputId": "d713345f-2977-4a35-a5d9-3453f77d0c9d"
      },
      "execution_count": 19,
      "outputs": [
        {
          "output_type": "execute_result",
          "data": {
            "text/plain": [
              "(10000, 28, 28)"
            ]
          },
          "metadata": {},
          "execution_count": 19
        }
      ]
    },
    {
      "cell_type": "code",
      "source": [
        "y_test.shape"
      ],
      "metadata": {
        "colab": {
          "base_uri": "https://localhost:8080/"
        },
        "id": "dDR2ks3bFoAc",
        "outputId": "d6a94d8c-1890-4558-c66c-99b2f32cf523"
      },
      "execution_count": 20,
      "outputs": [
        {
          "output_type": "execute_result",
          "data": {
            "text/plain": [
              "(10000, 10)"
            ]
          },
          "metadata": {},
          "execution_count": 20
        }
      ]
    },
    {
      "cell_type": "code",
      "source": [
        "y_test_1.shape"
      ],
      "metadata": {
        "colab": {
          "base_uri": "https://localhost:8080/"
        },
        "id": "CQMEMyxaupsc",
        "outputId": "ed701691-eda1-4ee1-a467-948f94c0b2f0"
      },
      "execution_count": 21,
      "outputs": [
        {
          "output_type": "execute_result",
          "data": {
            "text/plain": [
              "(10000,)"
            ]
          },
          "metadata": {},
          "execution_count": 21
        }
      ]
    },
    {
      "cell_type": "code",
      "source": [
        "#plt.imshow(test_data_1[99])"
      ],
      "metadata": {
        "id": "qvD3n7I4GBvX"
      },
      "execution_count": 22,
      "outputs": []
    },
    {
      "cell_type": "code",
      "source": [
        "number_predict = 99\n",
        "predictions = model.predict(test_data_1)\n",
        "predicted = (predictions[number_predict])\n",
        "plt.figure()\n",
        "plt.imshow(test_data_1[number_predict])\n",
        "class_names[np.argmax(predicted)]"
      ],
      "metadata": {
        "colab": {
          "base_uri": "https://localhost:8080/",
          "height": 284
        },
        "id": "0PvRSki4KPs1",
        "outputId": "a3dd1a23-3372-4a53-9025-31af7abfe1f5"
      },
      "execution_count": 23,
      "outputs": [
        {
          "output_type": "execute_result",
          "data": {
            "text/plain": [
              "'Pullover'"
            ],
            "application/vnd.google.colaboratory.intrinsic+json": {
              "type": "string"
            }
          },
          "metadata": {},
          "execution_count": 23
        },
        {
          "output_type": "display_data",
          "data": {
            "text/plain": [
              "<Figure size 432x288 with 1 Axes>"
            ],
            "image/png": "[encoded data removed]"
          },
          "metadata": {
            "needs_background": "light"
          }
        }
      ]
    },
    {
      "cell_type": "code",
      "source": [
        "plt.figure(figsize=(10,10))\n",
        "for i in range(25):\n",
        "    plt.subplot(5,5,i+1)\n",
        "    plt.xticks([])\n",
        "    plt.yticks([])\n",
        "    plt.grid('off')\n",
        "    plt.imshow(test_data_1[i], cmap=plt.cm.binary)\n",
        "    predicted_label = np.argmax(predictions[i])\n",
        "    true_label = y_test_1[i]\n",
        "    if predicted_label == true_label:\n",
        "      color = 'green'\n",
        "    else:\n",
        "      color = 'red'\n",
        "    plt.xlabel(\"{} ({})\".format(class_names[predicted_label], \n",
        "                                  class_names[true_label]),\n",
        "                                  color=color)"
      ],
      "metadata": {
        "colab": {
          "base_uri": "https://localhost:8080/",
          "height": 589
        },
        "id": "tCcjm9Iw8Ci4",
        "outputId": "5056985d-89aa-4152-fe81-bf4aad7b10af"
      },
      "execution_count": 24,
      "outputs": [
        {
          "output_type": "display_data",
          "data": {
            "text/plain": [
              "<Figure size 720x720 with 25 Axes>"
            ],
            "image/png": "[encoded data removed]"
          },
          "metadata": {}
        }
      ]
    },
    {
      "cell_type": "code",
      "source": [
        "number_predict = 100\n",
        "predictions = model.predict(test_data_1)\n",
        "predicted = (predictions[number_predict])\n",
        "plt.figure()\n",
        "plt.imshow(test_data_1[number_predict])\n",
        "class_names[np.argmax(predicted)]"
      ],
      "metadata": {
        "colab": {
          "base_uri": "https://localhost:8080/",
          "height": 284
        },
        "id": "vSYwIgOqyBtW",
        "outputId": "fad732ba-f4f1-4102-820e-71f24ab79cb6"
      },
      "execution_count": 25,
      "outputs": [
        {
          "output_type": "execute_result",
          "data": {
            "text/plain": [
              "'Dress'"
            ],
            "application/vnd.google.colaboratory.intrinsic+json": {
              "type": "string"
            }
          },
          "metadata": {},
          "execution_count": 25
        },
        {
          "output_type": "display_data",
          "data": {
            "text/plain": [
              "<Figure size 432x288 with 1 Axes>"
            ],
            "image/png": "[encoded data removed]"
          },
          "metadata": {
            "needs_background": "light"
          }
        }
      ]
    }
  ]
}