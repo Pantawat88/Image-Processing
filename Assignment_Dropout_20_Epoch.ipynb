{
  "nbformat": 4,
  "nbformat_minor": 0,
  "metadata": {
    "colab": {
      "name": "Assignment_Dropout_20_Epoch.ipynb",
      "provenance": [],
      "collapsed_sections": []
    },
    "kernelspec": {
      "name": "python3",
      "display_name": "Python 3"
    },
    "language_info": {
      "name": "python"
    },
    "accelerator": "GPU"
  },
  "cells": [
    {
      "cell_type": "code",
      "execution_count": 1,
      "metadata": {
        "id": "JeNN2VR8oHy5"
      },
      "outputs": [],
      "source": [
        "import tensorflow as tf\n",
        "Adam = tf.keras.optimizers.Adam\n",
        "to_categorical = tf.keras.utils.to_categorical\n",
        "ImageDataGenerator = tf.keras.preprocessing.image.ImageDataGenerator\n",
        "fashion_mnist = tf.keras.datasets.fashion_mnist\n",
        "load_img = tf.keras.preprocessing.image.load_img\n",
        "img_to_array = tf.keras.preprocessing.image.img_to_array\n",
        "\n",
        "from sklearn.model_selection import train_test_split\n",
        "import matplotlib.pyplot as plt\n",
        "\n",
        "import plotly.graph_objs as go\n",
        "from plotly import subplots\n",
        "import plotly\n",
        "\n",
        "import warnings\n",
        "warnings.filterwarnings('ignore')\n",
        "\n",
        "import numpy as np"
      ]
    },
    {
      "cell_type": "code",
      "source": [
        "IMG_ROWS = 28\n",
        "IMG_COLS = 28\n",
        "NUM_CLASSES = 10\n",
        "VAL_SIZE = 0.2\n",
        "RANDOM_STATE = 99\n",
        "BATCH_SIZE = 256"
      ],
      "metadata": {
        "id": "CWLxv7TjoQAT"
      },
      "execution_count": 2,
      "outputs": []
    },
    {
      "cell_type": "code",
      "source": [
        "(train_data, y), (test_data, y_test) = fashion_mnist.load_data()\n",
        "\n",
        "print(\"Fashion MNIST train -  rows:\",train_data.shape[0],\" columns:\", train_data.shape[1], \" rows:\", train_data.shape[2])\n",
        "print(\"Fashion MNIST test -  rows:\",test_data.shape[0],\" columns:\", test_data.shape[1], \" rows:\", train_data.shape[2])"
      ],
      "metadata": {
        "colab": {
          "base_uri": "https://localhost:8080/"
        },
        "id": "k1a-SLiuoR4X",
        "outputId": "066ebf44-f27e-47f4-8062-926f0ee175d4"
      },
      "execution_count": 3,
      "outputs": [
        {
          "output_type": "stream",
          "name": "stdout",
          "text": [
            "Downloading data from https://storage.googleapis.com/tensorflow/tf-keras-datasets/train-labels-idx1-ubyte.gz\n",
            "32768/29515 [=================================] - 0s 0us/step\n",
            "40960/29515 [=========================================] - 0s 0us/step\n",
            "Downloading data from https://storage.googleapis.com/tensorflow/tf-keras-datasets/train-images-idx3-ubyte.gz\n",
            "26427392/26421880 [==============================] - 0s 0us/step\n",
            "26435584/26421880 [==============================] - 0s 0us/step\n",
            "Downloading data from https://storage.googleapis.com/tensorflow/tf-keras-datasets/t10k-labels-idx1-ubyte.gz\n",
            "16384/5148 [===============================================================================================] - 0s 0us/step\n",
            "Downloading data from https://storage.googleapis.com/tensorflow/tf-keras-datasets/t10k-images-idx3-ubyte.gz\n",
            "4423680/4422102 [==============================] - 0s 0us/step\n",
            "4431872/4422102 [==============================] - 0s 0us/step\n",
            "Fashion MNIST train -  rows: 60000  columns: 28  rows: 28\n",
            "Fashion MNIST test -  rows: 10000  columns: 28  rows: 28\n"
          ]
        }
      ]
    },
    {
      "cell_type": "code",
      "source": [
        "y_test_1 = y_test\n",
        "print(y_test)\n",
        "print(y_test_1)"
      ],
      "metadata": {
        "colab": {
          "base_uri": "https://localhost:8080/"
        },
        "id": "5CYVRbycHR9d",
        "outputId": "2fc5e207-cf49-4511-baec-110ba0193667"
      },
      "execution_count": 4,
      "outputs": [
        {
          "output_type": "stream",
          "name": "stdout",
          "text": [
            "[9 2 1 ... 8 1 5]\n",
            "[9 2 1 ... 8 1 5]\n"
          ]
        }
      ]
    },
    {
      "cell_type": "code",
      "source": [
        "#ขยายมิติ Dataset\n",
        "\n",
        "print(train_data.shape, test_data.shape)\n",
        "train_data = train_data.reshape((train_data.shape[0], 28, 28, 1))\n",
        "test_data = test_data.reshape((test_data.shape[0], 28, 28, 1))\n",
        "\n",
        "print(train_data.shape, test_data.shape)"
      ],
      "metadata": {
        "colab": {
          "base_uri": "https://localhost:8080/"
        },
        "id": "wI0znc0RoUQ3",
        "outputId": "d676f612-e94e-4967-befd-2d47c7f4bef7"
      },
      "execution_count": 5,
      "outputs": [
        {
          "output_type": "stream",
          "name": "stdout",
          "text": [
            "(60000, 28, 28) (10000, 28, 28)\n",
            "(60000, 28, 28, 1) (10000, 28, 28, 1)\n"
          ]
        }
      ]
    },
    {
      "cell_type": "code",
      "source": [
        "#ทำ Scaling ข้อมูล\n",
        "train_data = train_data / 255.0\n",
        "test_data = test_data / 255.0"
      ],
      "metadata": {
        "id": "Ke8iRMZkofNp"
      },
      "execution_count": 6,
      "outputs": []
    },
    {
      "cell_type": "code",
      "source": [
        "#เข้ารหัส one-Hot Encoding\n",
        "\n",
        "y = to_categorical(y)\n",
        "y_test = to_categorical(y_test)\n",
        "\n",
        "print(y.shape, y_test.shape)\n",
        "y[:10]"
      ],
      "metadata": {
        "colab": {
          "base_uri": "https://localhost:8080/"
        },
        "id": "C8GHNYa0onHW",
        "outputId": "00e6e48c-f4fc-4dfd-9819-ee23abec66f8"
      },
      "execution_count": 7,
      "outputs": [
        {
          "output_type": "stream",
          "name": "stdout",
          "text": [
            "(60000, 10) (10000, 10)\n"
          ]
        },
        {
          "output_type": "execute_result",
          "data": {
            "text/plain": [
              "array([[0., 0., 0., 0., 0., 0., 0., 0., 0., 1.],\n",
              "       [1., 0., 0., 0., 0., 0., 0., 0., 0., 0.],\n",
              "       [1., 0., 0., 0., 0., 0., 0., 0., 0., 0.],\n",
              "       [0., 0., 0., 1., 0., 0., 0., 0., 0., 0.],\n",
              "       [1., 0., 0., 0., 0., 0., 0., 0., 0., 0.],\n",
              "       [0., 0., 1., 0., 0., 0., 0., 0., 0., 0.],\n",
              "       [0., 0., 0., 0., 0., 0., 0., 1., 0., 0.],\n",
              "       [0., 0., 1., 0., 0., 0., 0., 0., 0., 0.],\n",
              "       [0., 0., 0., 0., 0., 1., 0., 0., 0., 0.],\n",
              "       [0., 0., 0., 0., 0., 1., 0., 0., 0., 0.]], dtype=float32)"
            ]
          },
          "metadata": {},
          "execution_count": 7
        }
      ]
    },
    {
      "cell_type": "code",
      "source": [
        "#แบ่งข้อมูลในการเทรน 80:20\n",
        "x_train, x_val, y_train, y_val = train_test_split(train_data, y, test_size=VAL_SIZE, random_state=RANDOM_STATE)\n",
        "x_train.shape, x_val.shape, y_train.shape, y_val.shape"
      ],
      "metadata": {
        "colab": {
          "base_uri": "https://localhost:8080/"
        },
        "id": "uu5VBddDo2IC",
        "outputId": "01711457-2c7e-4e84-ba10-71f1e0f496a9"
      },
      "execution_count": 8,
      "outputs": [
        {
          "output_type": "execute_result",
          "data": {
            "text/plain": [
              "((48000, 28, 28, 1), (12000, 28, 28, 1), (48000, 10), (12000, 10))"
            ]
          },
          "metadata": {},
          "execution_count": 8
        }
      ]
    },
    {
      "cell_type": "code",
      "source": [
        "datagen = ImageDataGenerator(\n",
        "        rotation_range=0.05,    #Randomly rotate images in the range\n",
        "        zoom_range=0.2,         #Randomly zoom image\n",
        "        width_shift_range=0.1,  #Randomly shift images horizontally\n",
        "        height_shift_range=0.1, #Randomly shift images vertically\n",
        "        shear_range=0.05        #Randomly shear images\n",
        ")\n",
        "\n",
        "datagen.fit(x_train)"
      ],
      "metadata": {
        "id": "9Nm4R6ejo6Xw"
      },
      "execution_count": 9,
      "outputs": []
    },
    {
      "cell_type": "code",
      "source": [
        "# model = Sequential()\n",
        "model = tf.keras.Sequential()\n",
        "\n",
        "#1. CNN LAYER\n",
        "model.add(tf.keras.layers.Conv2D(filters = 31, kernel_size = (3,3), padding = 'Same', input_shape=(28, 28, 1)))\n",
        "model.add(tf.keras.layers.BatchNormalization())\n",
        "model.add(tf.keras.layers.Activation(\"relu\"))\n",
        "model.add(tf.keras.layers.Dropout(0.3))\n",
        "\n",
        "#2. CNN LAYER\n",
        "model.add(tf.keras.layers.Conv2D(filters = 31, kernel_size = (3,3), padding = 'Same'))\n",
        "model.add(tf.keras.layers.BatchNormalization())\n",
        "model.add(tf.keras.layers.Activation(\"relu\"))\n",
        "\n",
        "model.add(tf.keras.layers.MaxPool2D(pool_size=(2, 2)))\n",
        "model.add(tf.keras.layers.Dropout(0.3))\n",
        "\n",
        "#3. CNN LAYER\n",
        "model.add(tf.keras.layers.Conv2D(filters = 62, kernel_size = (3,3), padding = 'Same'))\n",
        "model.add(tf.keras.layers.BatchNormalization())\n",
        "model.add(tf.keras.layers.Activation(\"relu\"))\n",
        "model.add(tf.keras.layers.Dropout(0.3))\n",
        "\n",
        "#4. CNN LAYER\n",
        "model.add(tf.keras.layers.Conv2D(filters = 62, kernel_size = (3,3), padding = 'Same'))\n",
        "model.add(tf.keras.layers.BatchNormalization())\n",
        "model.add(tf.keras.layers.Activation(\"relu\"))\n",
        "\n",
        "model.add(tf.keras.layers.MaxPool2D(pool_size=(2, 2)))\n",
        "model.add(tf.keras.layers.Dropout(0.3))\n",
        "\n",
        "\n",
        "#FULLY CONNECTED LAYER\n",
        "model.add(tf.keras.layers.Flatten())\n",
        "model.add(tf.keras.layers.Dense(256))\n",
        "model.add(tf.keras.layers.BatchNormalization())\n",
        "model.add(tf.keras.layers.Activation(\"relu\"))\n",
        "model.add(tf.keras.layers.Dropout(0.30))\n",
        "\n",
        "#OUTPUT LAYER\n",
        "model.add(tf.keras.layers.Dense(10, activation='softmax'))"
      ],
      "metadata": {
        "id": "ay_g_DkypPm8"
      },
      "execution_count": 10,
      "outputs": []
    },
    {
      "cell_type": "code",
      "source": [
        "optimizer = Adam()\n",
        "model.compile(optimizer = optimizer, loss = \"categorical_crossentropy\", metrics=[\"accuracy\"])\n",
        "\n",
        "model.summary()"
      ],
      "metadata": {
        "colab": {
          "base_uri": "https://localhost:8080/"
        },
        "id": "if5TUQGkpRzN",
        "outputId": "e85f49ed-a7ba-47f1-8058-ff5e0a8ab828"
      },
      "execution_count": 11,
      "outputs": [
        {
          "output_type": "stream",
          "name": "stdout",
          "text": [
            "Model: \"sequential\"\n",
            "_________________________________________________________________\n",
            " Layer (type)                Output Shape              Param #   \n",
            "=================================================================\n",
            " conv2d (Conv2D)             (None, 28, 28, 31)        310       \n",
            "                                                                 \n",
            " batch_normalization (BatchN  (None, 28, 28, 31)       124       \n",
            " ormalization)                                                   \n",
            "                                                                 \n",
            " activation (Activation)     (None, 28, 28, 31)        0         \n",
            "                                                                 \n",
            " dropout (Dropout)           (None, 28, 28, 31)        0         \n",
            "                                                                 \n",
            " conv2d_1 (Conv2D)           (None, 28, 28, 31)        8680      \n",
            "                                                                 \n",
            " batch_normalization_1 (Batc  (None, 28, 28, 31)       124       \n",
            " hNormalization)                                                 \n",
            "                                                                 \n",
            " activation_1 (Activation)   (None, 28, 28, 31)        0         \n",
            "                                                                 \n",
            " max_pooling2d (MaxPooling2D  (None, 14, 14, 31)       0         \n",
            " )                                                               \n",
            "                                                                 \n",
            " dropout_1 (Dropout)         (None, 14, 14, 31)        0         \n",
            "                                                                 \n",
            " conv2d_2 (Conv2D)           (None, 14, 14, 62)        17360     \n",
            "                                                                 \n",
            " batch_normalization_2 (Batc  (None, 14, 14, 62)       248       \n",
            " hNormalization)                                                 \n",
            "                                                                 \n",
            " activation_2 (Activation)   (None, 14, 14, 62)        0         \n",
            "                                                                 \n",
            " dropout_2 (Dropout)         (None, 14, 14, 62)        0         \n",
            "                                                                 \n",
            " conv2d_3 (Conv2D)           (None, 14, 14, 62)        34658     \n",
            "                                                                 \n",
            " batch_normalization_3 (Batc  (None, 14, 14, 62)       248       \n",
            " hNormalization)                                                 \n",
            "                                                                 \n",
            " activation_3 (Activation)   (None, 14, 14, 62)        0         \n",
            "                                                                 \n",
            " max_pooling2d_1 (MaxPooling  (None, 7, 7, 62)         0         \n",
            " 2D)                                                             \n",
            "                                                                 \n",
            " dropout_3 (Dropout)         (None, 7, 7, 62)          0         \n",
            "                                                                 \n",
            " flatten (Flatten)           (None, 3038)              0         \n",
            "                                                                 \n",
            " dense (Dense)               (None, 256)               777984    \n",
            "                                                                 \n",
            " batch_normalization_4 (Batc  (None, 256)              1024      \n",
            " hNormalization)                                                 \n",
            "                                                                 \n",
            " activation_4 (Activation)   (None, 256)               0         \n",
            "                                                                 \n",
            " dropout_4 (Dropout)         (None, 256)               0         \n",
            "                                                                 \n",
            " dense_1 (Dense)             (None, 10)                2570      \n",
            "                                                                 \n",
            "=================================================================\n",
            "Total params: 843,330\n",
            "Trainable params: 842,446\n",
            "Non-trainable params: 884\n",
            "_________________________________________________________________\n"
          ]
        }
      ]
    },
    {
      "cell_type": "code",
      "source": [
        "NO_EPOCHS = 20\n",
        "\n",
        "history = model.fit(datagen.flow(x_train, y_train, batch_size=NO_EPOCHS),\n",
        "                              shuffle=True,\n",
        "                              epochs=NO_EPOCHS, validation_data = (x_val, y_val),\n",
        "                              verbose = 1, steps_per_epoch=x_train.shape[0] // BATCH_SIZE)"
      ],
      "metadata": {
        "colab": {
          "base_uri": "https://localhost:8080/"
        },
        "id": "eeJK0_9EpzfT",
        "outputId": "0437fbcb-b9b2-43d4-d280-7facc6997a36"
      },
      "execution_count": 12,
      "outputs": [
        {
          "output_type": "stream",
          "name": "stdout",
          "text": [
            "Epoch 1/20\n",
            "187/187 [==============================] - 21s 28ms/step - loss: 1.1842 - accuracy: 0.5783 - val_loss: 2.9985 - val_accuracy: 0.1003\n",
            "Epoch 2/20\n",
            "187/187 [==============================] - 6s 31ms/step - loss: 0.8790 - accuracy: 0.6770 - val_loss: 1.5973 - val_accuracy: 0.4407\n",
            "Epoch 3/20\n",
            "187/187 [==============================] - 5s 27ms/step - loss: 0.8063 - accuracy: 0.7005 - val_loss: 0.7308 - val_accuracy: 0.7028\n",
            "Epoch 4/20\n",
            "187/187 [==============================] - 6s 31ms/step - loss: 0.7483 - accuracy: 0.7184 - val_loss: 0.5278 - val_accuracy: 0.7962\n",
            "Epoch 5/20\n",
            "187/187 [==============================] - 5s 26ms/step - loss: 0.7121 - accuracy: 0.7337 - val_loss: 0.4917 - val_accuracy: 0.8140\n",
            "Epoch 6/20\n",
            "187/187 [==============================] - 6s 32ms/step - loss: 0.6821 - accuracy: 0.7422 - val_loss: 0.4949 - val_accuracy: 0.8133\n",
            "Epoch 7/20\n",
            "187/187 [==============================] - 6s 31ms/step - loss: 0.6692 - accuracy: 0.7406 - val_loss: 0.4801 - val_accuracy: 0.8162\n",
            "Epoch 8/20\n",
            "187/187 [==============================] - 5s 28ms/step - loss: 0.6236 - accuracy: 0.7671 - val_loss: 0.5055 - val_accuracy: 0.8152\n",
            "Epoch 9/20\n",
            "187/187 [==============================] - 6s 31ms/step - loss: 0.6115 - accuracy: 0.7690 - val_loss: 0.4800 - val_accuracy: 0.8183\n",
            "Epoch 10/20\n",
            "187/187 [==============================] - 5s 28ms/step - loss: 0.6056 - accuracy: 0.7794 - val_loss: 0.4476 - val_accuracy: 0.8260\n",
            "Epoch 11/20\n",
            "187/187 [==============================] - 6s 31ms/step - loss: 0.5870 - accuracy: 0.7807 - val_loss: 0.4362 - val_accuracy: 0.8345\n",
            "Epoch 12/20\n",
            "187/187 [==============================] - 6s 32ms/step - loss: 0.5900 - accuracy: 0.7781 - val_loss: 0.3985 - val_accuracy: 0.8438\n",
            "Epoch 13/20\n",
            "187/187 [==============================] - 6s 31ms/step - loss: 0.5877 - accuracy: 0.7818 - val_loss: 0.4068 - val_accuracy: 0.8473\n",
            "Epoch 14/20\n",
            "187/187 [==============================] - 5s 26ms/step - loss: 0.5631 - accuracy: 0.7872 - val_loss: 0.3902 - val_accuracy: 0.8465\n",
            "Epoch 15/20\n",
            "187/187 [==============================] - 6s 31ms/step - loss: 0.5476 - accuracy: 0.7947 - val_loss: 0.3758 - val_accuracy: 0.8580\n",
            "Epoch 16/20\n",
            "187/187 [==============================] - 5s 26ms/step - loss: 0.5562 - accuracy: 0.8000 - val_loss: 0.4295 - val_accuracy: 0.8298\n",
            "Epoch 17/20\n",
            "187/187 [==============================] - 5s 26ms/step - loss: 0.5395 - accuracy: 0.7984 - val_loss: 0.3857 - val_accuracy: 0.8536\n",
            "Epoch 18/20\n",
            "187/187 [==============================] - 5s 26ms/step - loss: 0.5240 - accuracy: 0.7936 - val_loss: 0.3589 - val_accuracy: 0.8616\n",
            "Epoch 19/20\n",
            "187/187 [==============================] - 5s 27ms/step - loss: 0.5232 - accuracy: 0.7995 - val_loss: 0.3866 - val_accuracy: 0.8493\n",
            "Epoch 20/20\n",
            "187/187 [==============================] - 5s 26ms/step - loss: 0.5252 - accuracy: 0.8067 - val_loss: 0.3539 - val_accuracy: 0.8691\n"
          ]
        }
      ]
    },
    {
      "cell_type": "code",
      "source": [
        "def create_trace(x,y,ylabel,color):\n",
        "        trace = go.Scatter(\n",
        "            x = x,y = y,\n",
        "            name=ylabel,\n",
        "            marker=dict(color=color),\n",
        "            mode = \"markers+lines\",\n",
        "            text=x\n",
        "        )\n",
        "        return trace\n",
        "    \n",
        "def plot_accuracy_and_loss(train_model):\n",
        "    hist = train_model.history\n",
        "    acc = hist['accuracy']\n",
        "    val_acc = hist['val_accuracy']\n",
        "    loss = hist['loss']\n",
        "    val_loss = hist['val_loss']\n",
        "    epochs = list(range(1,len(acc)+1))\n",
        "    \n",
        "    trace_ta = create_trace(epochs,acc,\"Training accuracy\", \"Green\")\n",
        "    trace_va = create_trace(epochs,val_acc,\"Validation accuracy\", \"Red\")\n",
        "    trace_tl = create_trace(epochs,loss,\"Training loss\", \"Blue\")\n",
        "    trace_vl = create_trace(epochs,val_loss,\"Validation loss\", \"Magenta\")\n",
        "   \n",
        "    fig = subplots.make_subplots(rows=1,cols=2, subplot_titles=('Training and validation accuracy',\n",
        "                                                             'Training and validation loss'))\n",
        "    fig.append_trace(trace_ta,1,1)\n",
        "    fig.append_trace(trace_va,1,1)\n",
        "    fig.append_trace(trace_tl,1,2)\n",
        "    fig.append_trace(trace_vl,1,2)\n",
        "    fig['layout']['xaxis'].update(title = 'Epoch')\n",
        "    fig['layout']['xaxis2'].update(title = 'Epoch')\n",
        "    fig['layout']['yaxis'].update(title = 'Accuracy', range=[0,1])\n",
        "    fig['layout']['yaxis2'].update(title = 'Loss', range=[0,1])\n",
        "\n",
        "    plotly.offline.iplot(fig, filename='accuracy-loss')"
      ],
      "metadata": {
        "id": "HRdlZP-RwOuh"
      },
      "execution_count": 13,
      "outputs": []
    },
    {
      "cell_type": "code",
      "source": [
        "plot_accuracy_and_loss(history)"
      ],
      "metadata": {
        "colab": {
          "base_uri": "https://localhost:8080/",
          "height": 542
        },
        "id": "ZDbSB1O4wQcV",
        "outputId": "0fcea764-3c2a-4470-dcb2-5d9765459b16"
      },
      "execution_count": 14,
      "outputs": [
        {
          "output_type": "display_data",
          "data": {
            "text/html": [
              "<html>\n",
              "<head><meta charset=\"utf-8\" /></head>\n",
              "<body>\n",
              "    <div>            <script src=\"https://cdnjs.cloudflare.com/ajax/libs/mathjax/2.7.5/MathJax.js?config=TeX-AMS-MML_SVG\"></script><script type=\"text/javascript\">if (window.MathJax) {MathJax.Hub.Config({SVG: {font: \"STIX-Web\"}});}</script>                <script type=\"text/javascript\">window.PlotlyConfig = {MathJaxConfig: 'local'};</script>\n",
              "        <script src=\"https://cdn.plot.ly/plotly-2.8.3.min.js\"></script>                <div id=\"8ce7749c-215f-4161-9403-d1253521d93d\" class=\"plotly-graph-div\" style=\"height:525px; width:100%;\"></div>            <script type=\"text/javascript\">                                    window.PLOTLYENV=window.PLOTLYENV || {};                                    if (document.getElementById(\"8ce7749c-215f-4161-9403-d1253521d93d\")) {                    Plotly.newPlot(                        \"8ce7749c-215f-4161-9403-d1253521d93d\",                        [{\"marker\":{\"color\":\"Green\"},\"mode\":\"markers+lines\",\"name\":\"Training accuracy\",\"text\":[\"1\",\"2\",\"3\",\"4\",\"5\",\"6\",\"7\",\"8\",\"9\",\"10\",\"11\",\"12\",\"13\",\"14\",\"15\",\"16\",\"17\",\"18\",\"19\",\"20\"],\"x\":[1,2,3,4,5,6,7,8,9,10,11,12,13,14,15,16,17,18,19,20],\"xaxis\":\"x\",\"y\":[0.5783422589302063,0.6770053505897522,0.7005347609519958,0.7184491753578186,0.7336898446083069,0.7422459721565247,0.740641713142395,0.7671123147010803,0.7689839601516724,0.779411792755127,0.7807486653327942,0.7780748605728149,0.7818182110786438,0.7871657609939575,0.7946524024009705,0.800000011920929,0.7983956933021545,0.7935829162597656,0.7994652390480042,0.8066844940185547],\"yaxis\":\"y\",\"type\":\"scatter\"},{\"marker\":{\"color\":\"Red\"},\"mode\":\"markers+lines\",\"name\":\"Validation accuracy\",\"text\":[\"1\",\"2\",\"3\",\"4\",\"5\",\"6\",\"7\",\"8\",\"9\",\"10\",\"11\",\"12\",\"13\",\"14\",\"15\",\"16\",\"17\",\"18\",\"19\",\"20\"],\"x\":[1,2,3,4,5,6,7,8,9,10,11,12,13,14,15,16,17,18,19,20],\"xaxis\":\"x\",\"y\":[0.1003333330154419,0.44066667556762695,0.702750027179718,0.7962499856948853,0.8140000104904175,0.8132500052452087,0.8161666393280029,0.8152499794960022,0.8183333277702332,0.8259999752044678,0.8345000147819519,0.843833327293396,0.8473333120346069,0.8464999794960022,0.8579999804496765,0.8297500014305115,0.8535833358764648,0.8615833520889282,0.8493333458900452,0.8690833449363708],\"yaxis\":\"y\",\"type\":\"scatter\"},{\"marker\":{\"color\":\"Blue\"},\"mode\":\"markers+lines\",\"name\":\"Training loss\",\"text\":[\"1\",\"2\",\"3\",\"4\",\"5\",\"6\",\"7\",\"8\",\"9\",\"10\",\"11\",\"12\",\"13\",\"14\",\"15\",\"16\",\"17\",\"18\",\"19\",\"20\"],\"x\":[1,2,3,4,5,6,7,8,9,10,11,12,13,14,15,16,17,18,19,20],\"xaxis\":\"x2\",\"y\":[1.1842068433761597,0.8789804577827454,0.8063496947288513,0.7483112812042236,0.7121340036392212,0.6820551156997681,0.6691727638244629,0.6236163377761841,0.611503541469574,0.6055591702461243,0.5870152711868286,0.5899574756622314,0.587675929069519,0.5630980730056763,0.547559380531311,0.5561878681182861,0.5394927859306335,0.5240215063095093,0.5232431292533875,0.5251911282539368],\"yaxis\":\"y2\",\"type\":\"scatter\"},{\"marker\":{\"color\":\"Magenta\"},\"mode\":\"markers+lines\",\"name\":\"Validation loss\",\"text\":[\"1\",\"2\",\"3\",\"4\",\"5\",\"6\",\"7\",\"8\",\"9\",\"10\",\"11\",\"12\",\"13\",\"14\",\"15\",\"16\",\"17\",\"18\",\"19\",\"20\"],\"x\":[1,2,3,4,5,6,7,8,9,10,11,12,13,14,15,16,17,18,19,20],\"xaxis\":\"x2\",\"y\":[2.9985342025756836,1.5973057746887207,0.7308198809623718,0.5277765989303589,0.4916907846927643,0.49489787220954895,0.48008137941360474,0.5054858922958374,0.4800471067428589,0.4476165771484375,0.4362161457538605,0.3985389471054077,0.4067675769329071,0.3902082145214081,0.375809907913208,0.42949774861335754,0.3856535255908966,0.358905553817749,0.3866119384765625,0.35386401414871216],\"yaxis\":\"y2\",\"type\":\"scatter\"}],                        {\"annotations\":[{\"font\":{\"size\":16},\"showarrow\":false,\"text\":\"Training and validation accuracy\",\"x\":0.225,\"xanchor\":\"center\",\"xref\":\"paper\",\"y\":1.0,\"yanchor\":\"bottom\",\"yref\":\"paper\"},{\"font\":{\"size\":16},\"showarrow\":false,\"text\":\"Training and validation loss\",\"x\":0.775,\"xanchor\":\"center\",\"xref\":\"paper\",\"y\":1.0,\"yanchor\":\"bottom\",\"yref\":\"paper\"}],\"template\":{\"data\":{\"barpolar\":[{\"marker\":{\"line\":{\"color\":\"#E5ECF6\",\"width\":0.5},\"pattern\":{\"fillmode\":\"overlay\",\"size\":10,\"solidity\":0.2}},\"type\":\"barpolar\"}],\"bar\":[{\"error_x\":{\"color\":\"#2a3f5f\"},\"error_y\":{\"color\":\"#2a3f5f\"},\"marker\":{\"line\":{\"color\":\"#E5ECF6\",\"width\":0.5},\"pattern\":{\"fillmode\":\"overlay\",\"size\":10,\"solidity\":0.2}},\"type\":\"bar\"}],\"carpet\":[{\"aaxis\":{\"endlinecolor\":\"#2a3f5f\",\"gridcolor\":\"white\",\"linecolor\":\"white\",\"minorgridcolor\":\"white\",\"startlinecolor\":\"#2a3f5f\"},\"baxis\":{\"endlinecolor\":\"#2a3f5f\",\"gridcolor\":\"white\",\"linecolor\":\"white\",\"minorgridcolor\":\"white\",\"startlinecolor\":\"#2a3f5f\"},\"type\":\"carpet\"}],\"choropleth\":[{\"colorbar\":{\"outlinewidth\":0,\"ticks\":\"\"},\"type\":\"choropleth\"}],\"contourcarpet\":[{\"colorbar\":{\"outlinewidth\":0,\"ticks\":\"\"},\"type\":\"contourcarpet\"}],\"contour\":[{\"colorbar\":{\"outlinewidth\":0,\"ticks\":\"\"},\"colorscale\":[[0.0,\"#0d0887\"],[0.1111111111111111,\"#46039f\"],[0.2222222222222222,\"#7201a8\"],[0.3333333333333333,\"#9c179e\"],[0.4444444444444444,\"#bd3786\"],[0.5555555555555556,\"#d8576b\"],[0.6666666666666666,\"#ed7953\"],[0.7777777777777778,\"#fb9f3a\"],[0.8888888888888888,\"#fdca26\"],[1.0,\"#f0f921\"]],\"type\":\"contour\"}],\"heatmapgl\":[{\"colorbar\":{\"outlinewidth\":0,\"ticks\":\"\"},\"colorscale\":[[0.0,\"#0d0887\"],[0.1111111111111111,\"#46039f\"],[0.2222222222222222,\"#7201a8\"],[0.3333333333333333,\"#9c179e\"],[0.4444444444444444,\"#bd3786\"],[0.5555555555555556,\"#d8576b\"],[0.6666666666666666,\"#ed7953\"],[0.7777777777777778,\"#fb9f3a\"],[0.8888888888888888,\"#fdca26\"],[1.0,\"#f0f921\"]],\"type\":\"heatmapgl\"}],\"heatmap\":[{\"colorbar\":{\"outlinewidth\":0,\"ticks\":\"\"},\"colorscale\":[[0.0,\"#0d0887\"],[0.1111111111111111,\"#46039f\"],[0.2222222222222222,\"#7201a8\"],[0.3333333333333333,\"#9c179e\"],[0.4444444444444444,\"#bd3786\"],[0.5555555555555556,\"#d8576b\"],[0.6666666666666666,\"#ed7953\"],[0.7777777777777778,\"#fb9f3a\"],[0.8888888888888888,\"#fdca26\"],[1.0,\"#f0f921\"]],\"type\":\"heatmap\"}],\"histogram2dcontour\":[{\"colorbar\":{\"outlinewidth\":0,\"ticks\":\"\"},\"colorscale\":[[0.0,\"#0d0887\"],[0.1111111111111111,\"#46039f\"],[0.2222222222222222,\"#7201a8\"],[0.3333333333333333,\"#9c179e\"],[0.4444444444444444,\"#bd3786\"],[0.5555555555555556,\"#d8576b\"],[0.6666666666666666,\"#ed7953\"],[0.7777777777777778,\"#fb9f3a\"],[0.8888888888888888,\"#fdca26\"],[1.0,\"#f0f921\"]],\"type\":\"histogram2dcontour\"}],\"histogram2d\":[{\"colorbar\":{\"outlinewidth\":0,\"ticks\":\"\"},\"colorscale\":[[0.0,\"#0d0887\"],[0.1111111111111111,\"#46039f\"],[0.2222222222222222,\"#7201a8\"],[0.3333333333333333,\"#9c179e\"],[0.4444444444444444,\"#bd3786\"],[0.5555555555555556,\"#d8576b\"],[0.6666666666666666,\"#ed7953\"],[0.7777777777777778,\"#fb9f3a\"],[0.8888888888888888,\"#fdca26\"],[1.0,\"#f0f921\"]],\"type\":\"histogram2d\"}],\"histogram\":[{\"marker\":{\"pattern\":{\"fillmode\":\"overlay\",\"size\":10,\"solidity\":0.2}},\"type\":\"histogram\"}],\"mesh3d\":[{\"colorbar\":{\"outlinewidth\":0,\"ticks\":\"\"},\"type\":\"mesh3d\"}],\"parcoords\":[{\"line\":{\"colorbar\":{\"outlinewidth\":0,\"ticks\":\"\"}},\"type\":\"parcoords\"}],\"pie\":[{\"automargin\":true,\"type\":\"pie\"}],\"scatter3d\":[{\"line\":{\"colorbar\":{\"outlinewidth\":0,\"ticks\":\"\"}},\"marker\":{\"colorbar\":{\"outlinewidth\":0,\"ticks\":\"\"}},\"type\":\"scatter3d\"}],\"scattercarpet\":[{\"marker\":{\"colorbar\":{\"outlinewidth\":0,\"ticks\":\"\"}},\"type\":\"scattercarpet\"}],\"scattergeo\":[{\"marker\":{\"colorbar\":{\"outlinewidth\":0,\"ticks\":\"\"}},\"type\":\"scattergeo\"}],\"scattergl\":[{\"marker\":{\"colorbar\":{\"outlinewidth\":0,\"ticks\":\"\"}},\"type\":\"scattergl\"}],\"scattermapbox\":[{\"marker\":{\"colorbar\":{\"outlinewidth\":0,\"ticks\":\"\"}},\"type\":\"scattermapbox\"}],\"scatterpolargl\":[{\"marker\":{\"colorbar\":{\"outlinewidth\":0,\"ticks\":\"\"}},\"type\":\"scatterpolargl\"}],\"scatterpolar\":[{\"marker\":{\"colorbar\":{\"outlinewidth\":0,\"ticks\":\"\"}},\"type\":\"scatterpolar\"}],\"scatter\":[{\"marker\":{\"colorbar\":{\"outlinewidth\":0,\"ticks\":\"\"}},\"type\":\"scatter\"}],\"scatterternary\":[{\"marker\":{\"colorbar\":{\"outlinewidth\":0,\"ticks\":\"\"}},\"type\":\"scatterternary\"}],\"surface\":[{\"colorbar\":{\"outlinewidth\":0,\"ticks\":\"\"},\"colorscale\":[[0.0,\"#0d0887\"],[0.1111111111111111,\"#46039f\"],[0.2222222222222222,\"#7201a8\"],[0.3333333333333333,\"#9c179e\"],[0.4444444444444444,\"#bd3786\"],[0.5555555555555556,\"#d8576b\"],[0.6666666666666666,\"#ed7953\"],[0.7777777777777778,\"#fb9f3a\"],[0.8888888888888888,\"#fdca26\"],[1.0,\"#f0f921\"]],\"type\":\"surface\"}],\"table\":[{\"cells\":{\"fill\":{\"color\":\"#EBF0F8\"},\"line\":{\"color\":\"white\"}},\"header\":{\"fill\":{\"color\":\"#C8D4E3\"},\"line\":{\"color\":\"white\"}},\"type\":\"table\"}]},\"layout\":{\"annotationdefaults\":{\"arrowcolor\":\"#2a3f5f\",\"arrowhead\":0,\"arrowwidth\":1},\"autotypenumbers\":\"strict\",\"coloraxis\":{\"colorbar\":{\"outlinewidth\":0,\"ticks\":\"\"}},\"colorscale\":{\"diverging\":[[0,\"#8e0152\"],[0.1,\"#c51b7d\"],[0.2,\"#de77ae\"],[0.3,\"#f1b6da\"],[0.4,\"#fde0ef\"],[0.5,\"#f7f7f7\"],[0.6,\"#e6f5d0\"],[0.7,\"#b8e186\"],[0.8,\"#7fbc41\"],[0.9,\"#4d9221\"],[1,\"#276419\"]],\"sequential\":[[0.0,\"#0d0887\"],[0.1111111111111111,\"#46039f\"],[0.2222222222222222,\"#7201a8\"],[0.3333333333333333,\"#9c179e\"],[0.4444444444444444,\"#bd3786\"],[0.5555555555555556,\"#d8576b\"],[0.6666666666666666,\"#ed7953\"],[0.7777777777777778,\"#fb9f3a\"],[0.8888888888888888,\"#fdca26\"],[1.0,\"#f0f921\"]],\"sequentialminus\":[[0.0,\"#0d0887\"],[0.1111111111111111,\"#46039f\"],[0.2222222222222222,\"#7201a8\"],[0.3333333333333333,\"#9c179e\"],[0.4444444444444444,\"#bd3786\"],[0.5555555555555556,\"#d8576b\"],[0.6666666666666666,\"#ed7953\"],[0.7777777777777778,\"#fb9f3a\"],[0.8888888888888888,\"#fdca26\"],[1.0,\"#f0f921\"]]},\"colorway\":[\"#636efa\",\"#EF553B\",\"#00cc96\",\"#ab63fa\",\"#FFA15A\",\"#19d3f3\",\"#FF6692\",\"#B6E880\",\"#FF97FF\",\"#FECB52\"],\"font\":{\"color\":\"#2a3f5f\"},\"geo\":{\"bgcolor\":\"white\",\"lakecolor\":\"white\",\"landcolor\":\"#E5ECF6\",\"showlakes\":true,\"showland\":true,\"subunitcolor\":\"white\"},\"hoverlabel\":{\"align\":\"left\"},\"hovermode\":\"closest\",\"mapbox\":{\"style\":\"light\"},\"paper_bgcolor\":\"white\",\"plot_bgcolor\":\"#E5ECF6\",\"polar\":{\"angularaxis\":{\"gridcolor\":\"white\",\"linecolor\":\"white\",\"ticks\":\"\"},\"bgcolor\":\"#E5ECF6\",\"radialaxis\":{\"gridcolor\":\"white\",\"linecolor\":\"white\",\"ticks\":\"\"}},\"scene\":{\"xaxis\":{\"backgroundcolor\":\"#E5ECF6\",\"gridcolor\":\"white\",\"gridwidth\":2,\"linecolor\":\"white\",\"showbackground\":true,\"ticks\":\"\",\"zerolinecolor\":\"white\"},\"yaxis\":{\"backgroundcolor\":\"#E5ECF6\",\"gridcolor\":\"white\",\"gridwidth\":2,\"linecolor\":\"white\",\"showbackground\":true,\"ticks\":\"\",\"zerolinecolor\":\"white\"},\"zaxis\":{\"backgroundcolor\":\"#E5ECF6\",\"gridcolor\":\"white\",\"gridwidth\":2,\"linecolor\":\"white\",\"showbackground\":true,\"ticks\":\"\",\"zerolinecolor\":\"white\"}},\"shapedefaults\":{\"line\":{\"color\":\"#2a3f5f\"}},\"ternary\":{\"aaxis\":{\"gridcolor\":\"white\",\"linecolor\":\"white\",\"ticks\":\"\"},\"baxis\":{\"gridcolor\":\"white\",\"linecolor\":\"white\",\"ticks\":\"\"},\"bgcolor\":\"#E5ECF6\",\"caxis\":{\"gridcolor\":\"white\",\"linecolor\":\"white\",\"ticks\":\"\"}},\"title\":{\"x\":0.05},\"xaxis\":{\"automargin\":true,\"gridcolor\":\"white\",\"linecolor\":\"white\",\"ticks\":\"\",\"title\":{\"standoff\":15},\"zerolinecolor\":\"white\",\"zerolinewidth\":2},\"yaxis\":{\"automargin\":true,\"gridcolor\":\"white\",\"linecolor\":\"white\",\"ticks\":\"\",\"title\":{\"standoff\":15},\"zerolinecolor\":\"white\",\"zerolinewidth\":2}}},\"xaxis\":{\"anchor\":\"y\",\"domain\":[0.0,0.45],\"title\":{\"text\":\"Epoch\"}},\"yaxis\":{\"anchor\":\"x\",\"domain\":[0.0,1.0],\"range\":[0,1],\"title\":{\"text\":\"Accuracy\"}},\"xaxis2\":{\"anchor\":\"y2\",\"domain\":[0.55,1.0],\"title\":{\"text\":\"Epoch\"}},\"yaxis2\":{\"anchor\":\"x2\",\"domain\":[0.0,1.0],\"range\":[0,1],\"title\":{\"text\":\"Loss\"}}},                        {\"responsive\": true}                    ).then(function(){\n",
              "                            \n",
              "var gd = document.getElementById('8ce7749c-215f-4161-9403-d1253521d93d');\n",
              "var x = new MutationObserver(function (mutations, observer) {{\n",
              "        var display = window.getComputedStyle(gd).display;\n",
              "        if (!display || display === 'none') {{\n",
              "            console.log([gd, 'removed!']);\n",
              "            Plotly.purge(gd);\n",
              "            observer.disconnect();\n",
              "        }}\n",
              "}});\n",
              "\n",
              "// Listen for the removal of the full notebook cells\n",
              "var notebookContainer = gd.closest('#notebook-container');\n",
              "if (notebookContainer) {{\n",
              "    x.observe(notebookContainer, {childList: true});\n",
              "}}\n",
              "\n",
              "// Listen for the clearing of the current output cell\n",
              "var outputEl = gd.closest('.output');\n",
              "if (outputEl) {{\n",
              "    x.observe(outputEl, {childList: true});\n",
              "}}\n",
              "\n",
              "                        })                };                            </script>        </div>\n",
              "</body>\n",
              "</html>"
            ]
          },
          "metadata": {}
        }
      ]
    },
    {
      "cell_type": "code",
      "source": [
        "score = model.evaluate(test_data, y_test,verbose=0)\n",
        "print(\"Test Loss:\",score[0])\n",
        "print(\"Test Accuracy:\",score[1])"
      ],
      "metadata": {
        "colab": {
          "base_uri": "https://localhost:8080/"
        },
        "id": "CREgyq6Iw01J",
        "outputId": "13f5139d-26c6-427e-9a33-e60f29d1399d"
      },
      "execution_count": 15,
      "outputs": [
        {
          "output_type": "stream",
          "name": "stdout",
          "text": [
            "Test Loss: 0.3577905297279358\n",
            "Test Accuracy: 0.8682000041007996\n"
          ]
        }
      ]
    },
    {
      "cell_type": "code",
      "source": [
        "class_names = ['T-shirt/top', 'Trouser', 'Pullover', 'Dress', 'Coat', 'Sandal', 'Shirt', 'Sneaker', 'Bag', 'Ankle boot']"
      ],
      "metadata": {
        "id": "MgU0jvpGzBVm"
      },
      "execution_count": 16,
      "outputs": []
    },
    {
      "cell_type": "code",
      "source": [
        "x_val.shape"
      ],
      "metadata": {
        "colab": {
          "base_uri": "https://localhost:8080/"
        },
        "id": "cpDuK66a5B7C",
        "outputId": "109c29ba-54a5-4a00-d850-e021d4b45a49"
      },
      "execution_count": 17,
      "outputs": [
        {
          "output_type": "execute_result",
          "data": {
            "text/plain": [
              "(12000, 28, 28, 1)"
            ]
          },
          "metadata": {},
          "execution_count": 17
        }
      ]
    },
    {
      "cell_type": "code",
      "source": [
        "test_data.shape"
      ],
      "metadata": {
        "colab": {
          "base_uri": "https://localhost:8080/"
        },
        "id": "mlVRc8F-E-Ds",
        "outputId": "a5e6bddc-1163-4bc2-b5c5-a2e5812ee454"
      },
      "execution_count": 18,
      "outputs": [
        {
          "output_type": "execute_result",
          "data": {
            "text/plain": [
              "(10000, 28, 28, 1)"
            ]
          },
          "metadata": {},
          "execution_count": 18
        }
      ]
    },
    {
      "cell_type": "code",
      "source": [
        "test_data_1 = []"
      ],
      "metadata": {
        "id": "C59eaW82EnAO"
      },
      "execution_count": 19,
      "outputs": []
    },
    {
      "cell_type": "code",
      "source": [
        "test_data_1 = []\n",
        "test_data_1 = test_data.reshape(test_data.shape[0],test_data.shape[1],test_data.shape[2])"
      ],
      "metadata": {
        "id": "fIDiemudFQvp"
      },
      "execution_count": 20,
      "outputs": []
    },
    {
      "cell_type": "code",
      "source": [
        "test_data_1.shape"
      ],
      "metadata": {
        "colab": {
          "base_uri": "https://localhost:8080/"
        },
        "id": "yZ3kpDaEFT6I",
        "outputId": "4e930d25-1d5f-49e6-a9dc-79f7b21ffd4f"
      },
      "execution_count": 21,
      "outputs": [
        {
          "output_type": "execute_result",
          "data": {
            "text/plain": [
              "(10000, 28, 28)"
            ]
          },
          "metadata": {},
          "execution_count": 21
        }
      ]
    },
    {
      "cell_type": "code",
      "source": [
        "y_test.shape"
      ],
      "metadata": {
        "colab": {
          "base_uri": "https://localhost:8080/"
        },
        "id": "dDR2ks3bFoAc",
        "outputId": "ffb0b047-833f-4654-921a-876cbc41d41a"
      },
      "execution_count": 22,
      "outputs": [
        {
          "output_type": "execute_result",
          "data": {
            "text/plain": [
              "(10000, 10)"
            ]
          },
          "metadata": {},
          "execution_count": 22
        }
      ]
    },
    {
      "cell_type": "code",
      "source": [
        "plt.figure(figsize=(10,10))\n",
        "for i in range(25):\n",
        "    plt.subplot(5,5,i+1)\n",
        "    plt.xticks([])\n",
        "    plt.yticks([])\n",
        "    plt.grid('off')\n",
        "    plt.imshow(test_data_1[i], cmap=plt.cm.binary)\n",
        "    predicted_label = np.argmax(predictions[i])\n",
        "    true_label = y_test_1[i]\n",
        "    if predicted_label == true_label:\n",
        "      color = 'green'\n",
        "    else:\n",
        "      color = 'red'\n",
        "    plt.xlabel(\"{} ({})\".format(class_names[predicted_label], \n",
        "                                  class_names[true_label]),\n",
        "                                  color=color)"
      ],
      "metadata": {
        "colab": {
          "base_uri": "https://localhost:8080/",
          "height": 589
        },
        "id": "tCcjm9Iw8Ci4",
        "outputId": "4210412a-6b9d-4269-ae3a-71f8d754be88"
      },
      "execution_count": 24,
      "outputs": [
        {
          "output_type": "display_data",
          "data": {
            "text/plain": [
              "<Figure size 720x720 with 25 Axes>"
            ],
            "image/png": "[encoded data removed]"
          },
          "metadata": {}
        }
      ]
    },
    {
      "cell_type": "code",
      "source": [
        "number_predict = 99\n",
        "predictions = model.predict(test_data_1)\n",
        "predicted = (predictions[number_predict])\n",
        "plt.figure()\n",
        "plt.imshow(test_data_1[number_predict])\n",
        "class_names[np.argmax(predicted)]"
      ],
      "metadata": {
        "colab": {
          "base_uri": "https://localhost:8080/",
          "height": 284
        },
        "id": "vSYwIgOqyBtW",
        "outputId": "ad213ab9-30d9-4660-f11c-5f4eb9a0928a"
      },
      "execution_count": 23,
      "outputs": [
        {
          "output_type": "execute_result",
          "data": {
            "text/plain": [
              "'Pullover'"
            ],
            "application/vnd.google.colaboratory.intrinsic+json": {
              "type": "string"
            }
          },
          "metadata": {},
          "execution_count": 23
        },
        {
          "output_type": "display_data",
          "data": {
            "text/plain": [
              "<Figure size 432x288 with 1 Axes>"
            ],
            "image/png": "[encoded data removed]"
          },
          "metadata": {
            "needs_background": "light"
          }
        }
      ]
    }
  ]
}